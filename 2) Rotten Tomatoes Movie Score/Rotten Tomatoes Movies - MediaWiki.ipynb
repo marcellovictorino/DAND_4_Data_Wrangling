{
 "cells": [
  {
   "cell_type": "code",
   "execution_count": 1,
   "metadata": {},
   "outputs": [],
   "source": [
    "%matplotlib inline\n",
    "import pandas as pd\n",
    "import numpy as np\n",
    "import matplotlib.pyplot as plt\n",
    "import seaborn as sns\n",
    "from bs4 import BeautifulSoup\n",
    "import os"
   ]
  },
  {
   "cell_type": "markdown",
   "metadata": {},
   "source": [
    "## Capturing Movies Image from Wikipedia (MediaWiki)\n",
    "We will use `wptools`, a wrapper around the MediaWiki API that makes it even easier to extract information for specific 'wiki-pages'."
   ]
  },
  {
   "cell_type": "code",
   "execution_count": 53,
   "metadata": {
    "scrolled": true
   },
   "outputs": [
    {
     "name": "stderr",
     "output_type": "stream",
     "text": [
      "en.wikipedia.org (query) E.T._the_Extra-Terrestrial\n",
      "en.wikipedia.org (parse) 73441\n",
      "www.wikidata.org (wikidata) Q11621\n",
      "www.wikidata.org (labels) Q60629803|P2518|P162|Q7341915|P1431|Q46...\n",
      "www.wikidata.org (labels) P2509|Q45171911|P725|P1040|Q849124|P246...\n",
      "www.wikidata.org (labels) Q1270715|Q488651|P3212|P840|P2130|Q3745...\n",
      "www.wikidata.org (labels) P3143|Q1748409|Q505449|P2334|Q30|P18|P3...\n",
      "en.wikipedia.org (restbase) /page/summary/E.T._the_Extra-Terrestrial\n",
      "en.wikipedia.org (imageinfo) File:E t the extra terrestrial ver3....\n",
      "E.T. the Extra-Terrestrial (en) data\n",
      "{\n",
      "  WARNINGS: <dict(1)> extracts\n",
      "  aliases: <list(2)> E.T., ET\n",
      "  assessments: <dict(4)> United States, Film, Science Fiction, Lib...\n",
      "  claims: <dict(95)> P1562, P57, P272, P345, P31, P161, P373, P480...\n",
      "  description: <str(63)> 1982 American science fiction film direct...\n",
      "  exhtml: <str(570)> <p><i><b>E.T. the Extra-Terrestrial</b></i> i...\n",
      "  exrest: <str(549)> E.T. the Extra-Terrestrial is a 1982 American...\n",
      "  extext: <str(1731)> _**E.T. the Extra-Terrestrial**_ is a 1982 A...\n",
      "  extract: <str(1849)> <p class=\"mw-empty-elt\"></p><p><i><b>E.T. t...\n",
      "  image: <list(4)> {'kind': 'parse-image', 'file': 'File:E t the e...\n",
      "  infobox: <dict(18)> name, image, caption, director, producers, w...\n",
      "  iwlinks: <list(6)> https://commons.wikimedia.org/wiki/Category:E...\n",
      "  label: E.T. the Extra-Terrestrial\n",
      "  labels: <dict(175)> Q60629803, P2518, P162, Q7341915, P1431, Q46...\n",
      "  length: 80,160\n",
      "  links: <list(463)> 12 Monkeys, 12 Years a Slave (film), 1941 (fi...\n",
      "  modified: <dict(2)> page, wikidata\n",
      "  pageid: 73441\n",
      "  parsetree: <str(100009)> <root><template><title>Redirect</title>...\n",
      "  random: Bhit Ja Bhittai (song)\n",
      "  redirects: <list(38)> {'pageid': 177061, 'ns': 0, 'title': 'E.T....\n",
      "  requests: <list(9)> query, parse, wikidata, labels, labels, labe...\n",
      "  title: E.T._the_Extra-Terrestrial\n",
      "  url: https://en.wikipedia.org/wiki/E.T._the_Extra-Terrestrial\n",
      "  url_raw: <str(67)> https://en.wikipedia.org/wiki/E.T._the_Extra-...\n",
      "  watchers: 291\n",
      "  what: film\n",
      "  wikibase: Q11621\n",
      "  wikidata: <dict(95)> AllMovie movie ID (P1562), director (P57), ...\n",
      "  wikidata_pageid: 13150\n",
      "  wikidata_url: https://www.wikidata.org/wiki/Q11621\n",
      "  wikitext: <str(79849)> {{Redirect|E.T.|other uses|ET (disambigua...\n",
      "}\n"
     ]
    }
   ],
   "source": [
    "import wptools\n",
    "page = wptools.page('E.T._the_Extra-Terrestrial').get()"
   ]
  },
  {
   "cell_type": "code",
   "execution_count": 54,
   "metadata": {},
   "outputs": [
    {
     "data": {
      "text/plain": [
       "[{'kind': 'parse-image',\n",
       "  'file': 'File:E t the extra terrestrial ver3.jpg',\n",
       "  'orig': 'E t the extra terrestrial ver3.jpg',\n",
       "  'timestamp': '2016-06-04T10:30:46Z',\n",
       "  'size': 83073,\n",
       "  'width': 253,\n",
       "  'height': 394,\n",
       "  'url': 'https://upload.wikimedia.org/wikipedia/en/6/66/E_t_the_extra_terrestrial_ver3.jpg',\n",
       "  'descriptionurl': 'https://en.wikipedia.org/wiki/File:E_t_the_extra_terrestrial_ver3.jpg',\n",
       "  'descriptionshorturl': 'https://en.wikipedia.org/w/index.php?curid=7419503',\n",
       "  'title': 'File:E t the extra terrestrial ver3.jpg',\n",
       "  'metadata': {'DateTime': {'value': '2016-06-04 10:30:46',\n",
       "    'source': 'mediawiki-metadata',\n",
       "    'hidden': ''},\n",
       "   'ObjectName': {'value': 'E t the extra terrestrial ver3',\n",
       "    'source': 'mediawiki-metadata',\n",
       "    'hidden': ''},\n",
       "   'CommonsMetadataExtension': {'value': 1.2,\n",
       "    'source': 'extension',\n",
       "    'hidden': ''},\n",
       "   'Categories': {'value': 'All non-free media|E.T. the Extra-Terrestrial|Fair use images of movie posters|Files with no machine-readable author|Files with no machine-readable description|Files with no machine-readable license|Files with no machine-readable source|Noindexed pages|Non-free images for NFUR review|Non-free posters',\n",
       "    'source': 'commons-categories',\n",
       "    'hidden': ''},\n",
       "   'Assessments': {'value': '', 'source': 'commons-categories', 'hidden': ''},\n",
       "   'NonFree': {'value': 'true', 'source': 'commons-desc-page', 'hidden': ''},\n",
       "   'Restrictions': {'value': '',\n",
       "    'source': 'commons-desc-page',\n",
       "    'hidden': ''}}},\n",
       " {'file': 'File:ET logo 3.svg',\n",
       "  'kind': 'wikidata-image',\n",
       "  'orig': 'ET logo 3.svg',\n",
       "  'timestamp': '2011-05-14T20:38:17Z',\n",
       "  'size': 77290,\n",
       "  'width': 512,\n",
       "  'height': 380,\n",
       "  'url': 'https://upload.wikimedia.org/wikipedia/commons/8/85/ET_logo_3.svg',\n",
       "  'descriptionurl': 'https://commons.wikimedia.org/wiki/File:ET_logo_3.svg',\n",
       "  'descriptionshorturl': 'https://commons.wikimedia.org/w/index.php?curid=14138952',\n",
       "  'title': 'File:ET logo 3.svg',\n",
       "  'metadata': {'DateTime': {'value': '2011-05-14 20:38:17',\n",
       "    'source': 'mediawiki-metadata',\n",
       "    'hidden': ''},\n",
       "   'ObjectName': {'value': 'ET logo 3',\n",
       "    'source': 'mediawiki-metadata',\n",
       "    'hidden': ''},\n",
       "   'CommonsMetadataExtension': {'value': 1.2,\n",
       "    'source': 'extension',\n",
       "    'hidden': ''},\n",
       "   'Categories': {'value': 'E.T. the Extra-Terrestrial|PD ineligible|With trademark',\n",
       "    'source': 'commons-categories',\n",
       "    'hidden': ''},\n",
       "   'Assessments': {'value': '', 'source': 'commons-categories', 'hidden': ''},\n",
       "   'ImageDescription': {'value': 'Opening logo to the <a href=\"https://en.wikipedia.org/wiki/E.T._the_Extra-Terrestrial\" class=\"extiw\" title=\"en:E.T. the Extra-Terrestrial\">en:E.T. the Extra-Terrestrial</a> film',\n",
       "    'source': 'commons-desc-page'},\n",
       "   'DateTimeOriginal': {'value': '2011-02-28', 'source': 'commons-desc-page'},\n",
       "   'Credit': {'value': 'Transferred from <a class=\"external text\" href=\"http://en.wikipedia.org\">en.wikipedia</a>',\n",
       "    'source': 'commons-desc-page',\n",
       "    'hidden': ''},\n",
       "   'Artist': {'value': '<a href=\"https://en.wikipedia.org/wiki/en:User:TheCuriousGnome\" class=\"extiw\" title=\"w:en:User:TheCuriousGnome\">User:TheCuriousGnome</a>',\n",
       "    'source': 'commons-desc-page'},\n",
       "   'LicenseShortName': {'value': 'Public domain',\n",
       "    'source': 'commons-desc-page',\n",
       "    'hidden': ''},\n",
       "   'UsageTerms': {'value': 'Public domain',\n",
       "    'source': 'commons-desc-page',\n",
       "    'hidden': ''},\n",
       "   'AttributionRequired': {'value': 'false',\n",
       "    'source': 'commons-desc-page',\n",
       "    'hidden': ''},\n",
       "   'Copyrighted': {'value': 'False',\n",
       "    'source': 'commons-desc-page',\n",
       "    'hidden': ''},\n",
       "   'Restrictions': {'value': 'trademarked',\n",
       "    'source': 'commons-desc-page',\n",
       "    'hidden': ''},\n",
       "   'License': {'value': 'pd', 'source': 'commons-templates', 'hidden': ''}}},\n",
       " {'kind': 'restbase-original',\n",
       "  'width': 253,\n",
       "  'height': 394,\n",
       "  'url': 'https://upload.wikimedia.org/wikipedia/en/6/66/E_t_the_extra_terrestrial_ver3.jpg',\n",
       "  'file': 'File:E t the extra terrestrial ver3.jpg',\n",
       "  'orig': 'E_t_the_extra_terrestrial_ver3.jpg'},\n",
       " {'kind': 'restbase-thumb',\n",
       "  'width': 205,\n",
       "  'height': 320,\n",
       "  'url': 'https://upload.wikimedia.org/wikipedia/en/thumb/6/66/E_t_the_extra_terrestrial_ver3.jpg/205px-E_t_the_extra_terrestrial_ver3.jpg',\n",
       "  'file': 'File:205px-E t the extra terrestrial ver3.jpg',\n",
       "  'orig': '205px-E_t_the_extra_terrestrial_ver3.jpg'}]"
      ]
     },
     "execution_count": 54,
     "metadata": {},
     "output_type": "execute_result"
    }
   ],
   "source": [
    "# Accessing Image \n",
    "page.data['image']"
   ]
  }
 ],
 "metadata": {
  "kernelspec": {
   "display_name": "Python 3",
   "language": "python",
   "name": "python3"
  },
  "language_info": {
   "codemirror_mode": {
    "name": "ipython",
    "version": 3
   },
   "file_extension": ".py",
   "mimetype": "text/x-python",
   "name": "python",
   "nbconvert_exporter": "python",
   "pygments_lexer": "ipython3",
   "version": "3.6.4"
  },
  "varInspector": {
   "cols": {
    "lenName": 16,
    "lenType": 16,
    "lenVar": 40
   },
   "kernels_config": {
    "python": {
     "delete_cmd_postfix": "",
     "delete_cmd_prefix": "del ",
     "library": "var_list.py",
     "varRefreshCmd": "print(var_dic_list())"
    },
    "r": {
     "delete_cmd_postfix": ") ",
     "delete_cmd_prefix": "rm(",
     "library": "var_list.r",
     "varRefreshCmd": "cat(var_dic_list()) "
    }
   },
   "types_to_exclude": [
    "module",
    "function",
    "builtin_function_or_method",
    "instance",
    "_Feature"
   ],
   "window_display": false
  }
 },
 "nbformat": 4,
 "nbformat_minor": 2
}
