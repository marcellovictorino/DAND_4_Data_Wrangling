{
 "cells": [
  {
   "cell_type": "code",
   "execution_count": 1,
   "metadata": {},
   "outputs": [],
   "source": [
    "%matplotlib inline\n",
    "import pandas as pd\n",
    "import numpy as np\n",
    "import matplotlib.pyplot as plt\n",
    "import seaborn as sns\n",
    "from bs4 import BeautifulSoup\n",
    "import os\n",
    "import unicodedata"
   ]
  },
  {
   "cell_type": "markdown",
   "metadata": {},
   "source": [
    "## Audience Ratings"
   ]
  },
  {
   "cell_type": "code",
   "execution_count": 2,
   "metadata": {},
   "outputs": [],
   "source": [
    "# Read all html Rotten Tomatoes 100 Best movies\n",
    "movie_list =[]\n",
    "folder = 'rotten_tomatoes_html'\n",
    "for movie in os.listdir(folder):\n",
    "    with open(os.path.join(folder, movie), encoding='utf-8') as file:\n",
    "        soup = BeautifulSoup(file, 'lxml')\n",
    "        \n",
    "        # extract title\n",
    "        title = soup.find('title').contents[0][: -len(' - rotten tomatoes')].strip()      \n",
    "        title = unicodedata.normalize('NFKD', title)\n",
    "        \n",
    "        # extract audience_score\n",
    "        aud_score = soup.find(class_='audience-score meter').find('span').contents[0][:-1]\n",
    "        \n",
    "        # extract number of audience ratings\n",
    "        aud_rating = soup.find(class_='audience-info hidden-xs superPageFontColor').find_all('div')[1].contents[2].strip().replace(',','')\n",
    "        \n",
    "        info = {'title': title, 'audience_score': int(aud_score), 'audience_rating': int(aud_rating)}\n",
    "        movie_list.append(info)        "
   ]
  },
  {
   "cell_type": "code",
   "execution_count": 3,
   "metadata": {},
   "outputs": [],
   "source": [
    "# Create Dataframe Audience to capture Rotten Tomatoes extra info\n",
    "df_audience = pd.DataFrame(movie_list, columns=info.keys())"
   ]
  },
  {
   "cell_type": "markdown",
   "metadata": {},
   "source": [
    "## Critics Rating"
   ]
  },
  {
   "cell_type": "code",
   "execution_count": 4,
   "metadata": {},
   "outputs": [],
   "source": [
    "# Available data from Critics review\n",
    "df_critics = pd.read_csv('rotten_tomatoes_best100movies.tsv', sep='\\t')"
   ]
  },
  {
   "cell_type": "code",
   "execution_count": 5,
   "metadata": {},
   "outputs": [
    {
     "name": "stdout",
     "output_type": "stream",
     "text": [
      "Rashômon (1951)\n",
      "Army of Shadows (L'Armée des ombres) (1969)\n",
      "Tokyo Story (Tôkyô monogatari) (1953)\n"
     ]
    }
   ],
   "source": [
    "for title in df_critics.title:\n",
    "    if not title in df_audience.title.tolist():\n",
    "        print(title)"
   ]
  },
  {
   "cell_type": "code",
   "execution_count": 6,
   "metadata": {},
   "outputs": [],
   "source": [
    "# For some reason, unicodedata.normalize did not fix all accented chars\n",
    "# Sorting the dataframes by Title to join by index instead\n",
    "\n",
    "df_critics = df_critics.sort_values(by='title').reset_index(drop=True)\n",
    "df_audience = df_audience.sort_values(by='title').reset_index(drop=True)"
   ]
  },
  {
   "cell_type": "code",
   "execution_count": 7,
   "metadata": {
    "scrolled": true
   },
   "outputs": [],
   "source": [
    "# Joining data\n",
    "# df = df_critics.join(df_audience, on='title')\n",
    "df = df_critics.join(df_audience, rsuffix='_aud')"
   ]
  },
  {
   "cell_type": "code",
   "execution_count": 10,
   "metadata": {
    "scrolled": true
   },
   "outputs": [],
   "source": [
    "df = df.sort_values('ranking').reset_index(drop=True)"
   ]
  },
  {
   "cell_type": "code",
   "execution_count": 12,
   "metadata": {
    "scrolled": true
   },
   "outputs": [],
   "source": [
    "# Saving it locally\n",
    "df.to_csv('critics_audience_ratings.csv', index=False)"
   ]
  }
 ],
 "metadata": {
  "kernelspec": {
   "display_name": "Python 3",
   "language": "python",
   "name": "python3"
  },
  "language_info": {
   "codemirror_mode": {
    "name": "ipython",
    "version": 3
   },
   "file_extension": ".py",
   "mimetype": "text/x-python",
   "name": "python",
   "nbconvert_exporter": "python",
   "pygments_lexer": "ipython3",
   "version": "3.6.4"
  },
  "varInspector": {
   "cols": {
    "lenName": 16,
    "lenType": 16,
    "lenVar": 40
   },
   "kernels_config": {
    "python": {
     "delete_cmd_postfix": "",
     "delete_cmd_prefix": "del ",
     "library": "var_list.py",
     "varRefreshCmd": "print(var_dic_list())"
    },
    "r": {
     "delete_cmd_postfix": ") ",
     "delete_cmd_prefix": "rm(",
     "library": "var_list.r",
     "varRefreshCmd": "cat(var_dic_list()) "
    }
   },
   "types_to_exclude": [
    "module",
    "function",
    "builtin_function_or_method",
    "instance",
    "_Feature"
   ],
   "window_display": false
  }
 },
 "nbformat": 4,
 "nbformat_minor": 2
}
