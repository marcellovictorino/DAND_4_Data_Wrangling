{
 "cells": [
  {
   "cell_type": "code",
   "execution_count": 1,
   "metadata": {},
   "outputs": [],
   "source": [
    "%matplotlib inline\n",
    "import pandas as pd\n",
    "import numpy as np\n",
    "import matplotlib.pyplot as plt\n",
    "import seaborn as sns\n",
    "from bs4 import BeautifulSoup\n",
    "import os\n",
    "import unicodedata"
   ]
  },
  {
   "cell_type": "markdown",
   "metadata": {},
   "source": [
    "## Audience Ratings"
   ]
  },
  {
   "cell_type": "code",
   "execution_count": 2,
   "metadata": {},
   "outputs": [],
   "source": [
    "# Read all html Rotten Tomatoes 100 Best movies\n",
    "movie_list =[]\n",
    "folder = 'rotten_tomatoes_html'\n",
    "for movie in os.listdir(folder):\n",
    "    with open(os.path.join(folder, movie), encoding='utf-8') as file:\n",
    "        soup = BeautifulSoup(file, 'lxml')\n",
    "        \n",
    "        # extract title\n",
    "        title = soup.find('title').contents[0][: -len(' - rotten tomatoes')].strip()      \n",
    "        title = unicodedata.normalize('NFKD', title)\n",
    "        \n",
    "        # extract audience_score\n",
    "        aud_score = soup.find(class_='audience-score meter').find('span').contents[0][:-1]\n",
    "        \n",
    "        # extract number of audience ratings\n",
    "        aud_rating = soup.find(class_='audience-info hidden-xs superPageFontColor').find_all('div')[1].contents[2].strip().replace(',','')\n",
    "        \n",
    "        info = {'title': title, 'audience_score': int(aud_score), 'audience_rating': int(aud_rating)}\n",
    "        movie_list.append(info)        "
   ]
  },
  {
   "cell_type": "code",
   "execution_count": 37,
   "metadata": {},
   "outputs": [],
   "source": [
    "# Create Dataframe Audience to capture Rotten Tomatoes extra info\n",
    "df_audience = pd.DataFrame(movie_list, columns=info.keys())"
   ]
  },
  {
   "cell_type": "markdown",
   "metadata": {},
   "source": [
    "## Critics Rating"
   ]
  },
  {
   "cell_type": "code",
   "execution_count": 4,
   "metadata": {},
   "outputs": [],
   "source": [
    "# Available data from Critics review\n",
    "df_critics = pd.read_csv('rotten_tomatoes_best100movies.tsv', sep='\\t')"
   ]
  },
  {
   "cell_type": "code",
   "execution_count": 38,
   "metadata": {},
   "outputs": [
    {
     "name": "stdout",
     "output_type": "stream",
     "text": [
      "Army of Shadows (L'Armée des ombres) (1969)\n",
      "Rashômon (1951)\n",
      "Tokyo Story (Tôkyô monogatari) (1953)\n"
     ]
    }
   ],
   "source": [
    "for title in df_critics.title:\n",
    "    if not title in df_audience.title.tolist():\n",
    "        print(title)"
   ]
  },
  {
   "cell_type": "code",
   "execution_count": 6,
   "metadata": {},
   "outputs": [],
   "source": [
    "# For some reason, unicodedata.normalize did not fix all accented chars\n",
    "# Sorting the dataframes by Title to join by index instead\n",
    "\n",
    "df_critics = df_critics.sort_values(by='title').reset_index(drop=True)\n",
    "df_audience = df_audience.sort_values(by='title').reset_index(drop=True)"
   ]
  },
  {
   "cell_type": "code",
   "execution_count": 9,
   "metadata": {
    "scrolled": true
   },
   "outputs": [],
   "source": [
    "# Joining data\n",
    "# df = df_critics.join(df_audience, on='title')\n",
    "df = df_critics.join(df_audience, rsuffix='_aud')"
   ]
  },
  {
   "cell_type": "code",
   "execution_count": 10,
   "metadata": {
    "scrolled": true
   },
   "outputs": [
    {
     "data": {
      "text/html": [
       "<div>\n",
       "<style scoped>\n",
       "    .dataframe tbody tr th:only-of-type {\n",
       "        vertical-align: middle;\n",
       "    }\n",
       "\n",
       "    .dataframe tbody tr th {\n",
       "        vertical-align: top;\n",
       "    }\n",
       "\n",
       "    .dataframe thead th {\n",
       "        text-align: right;\n",
       "    }\n",
       "</style>\n",
       "<table border=\"1\" class=\"dataframe\">\n",
       "  <thead>\n",
       "    <tr style=\"text-align: right;\">\n",
       "      <th></th>\n",
       "      <th>ranking</th>\n",
       "      <th>critic_score</th>\n",
       "      <th>title</th>\n",
       "      <th>number_of_critic_ratings</th>\n",
       "      <th>title_aud</th>\n",
       "      <th>audience_score</th>\n",
       "      <th>audience_rating</th>\n",
       "    </tr>\n",
       "  </thead>\n",
       "  <tbody>\n",
       "    <tr>\n",
       "      <th>0</th>\n",
       "      <td>53</td>\n",
       "      <td>100</td>\n",
       "      <td>12 Angry Men (Twelve Angry Men) (1957)</td>\n",
       "      <td>49</td>\n",
       "      <td>12 Angry Men (Twelve Angry Men) (1957)</td>\n",
       "      <td>97</td>\n",
       "      <td>103672</td>\n",
       "    </tr>\n",
       "    <tr>\n",
       "      <th>1</th>\n",
       "      <td>29</td>\n",
       "      <td>96</td>\n",
       "      <td>12 Years a Slave (2013)</td>\n",
       "      <td>316</td>\n",
       "      <td>12 Years a Slave (2013)</td>\n",
       "      <td>90</td>\n",
       "      <td>138789</td>\n",
       "    </tr>\n",
       "    <tr>\n",
       "      <th>2</th>\n",
       "      <td>22</td>\n",
       "      <td>98</td>\n",
       "      <td>A Hard Day's Night (1964)</td>\n",
       "      <td>104</td>\n",
       "      <td>A Hard Day's Night (1964)</td>\n",
       "      <td>89</td>\n",
       "      <td>50067</td>\n",
       "    </tr>\n",
       "    <tr>\n",
       "      <th>3</th>\n",
       "      <td>60</td>\n",
       "      <td>98</td>\n",
       "      <td>A Streetcar Named Desire (1951)</td>\n",
       "      <td>54</td>\n",
       "      <td>A Streetcar Named Desire (1951)</td>\n",
       "      <td>90</td>\n",
       "      <td>54761</td>\n",
       "    </tr>\n",
       "    <tr>\n",
       "      <th>4</th>\n",
       "      <td>48</td>\n",
       "      <td>97</td>\n",
       "      <td>Alien (1979)</td>\n",
       "      <td>104</td>\n",
       "      <td>Alien (1979)</td>\n",
       "      <td>94</td>\n",
       "      <td>457186</td>\n",
       "    </tr>\n",
       "  </tbody>\n",
       "</table>\n",
       "</div>"
      ],
      "text/plain": [
       "   ranking  critic_score                                   title  \\\n",
       "0       53           100  12 Angry Men (Twelve Angry Men) (1957)   \n",
       "1       29            96                 12 Years a Slave (2013)   \n",
       "2       22            98               A Hard Day's Night (1964)   \n",
       "3       60            98         A Streetcar Named Desire (1951)   \n",
       "4       48            97                            Alien (1979)   \n",
       "\n",
       "   number_of_critic_ratings                               title_aud  \\\n",
       "0                        49  12 Angry Men (Twelve Angry Men) (1957)   \n",
       "1                       316                 12 Years a Slave (2013)   \n",
       "2                       104               A Hard Day's Night (1964)   \n",
       "3                        54         A Streetcar Named Desire (1951)   \n",
       "4                       104                            Alien (1979)   \n",
       "\n",
       "   audience_score  audience_rating  \n",
       "0              97           103672  \n",
       "1              90           138789  \n",
       "2              89            50067  \n",
       "3              90            54761  \n",
       "4              94           457186  "
      ]
     },
     "execution_count": 10,
     "metadata": {},
     "output_type": "execute_result"
    }
   ],
   "source": [
    "df.head()"
   ]
  }
 ],
 "metadata": {
  "kernelspec": {
   "display_name": "Python 3",
   "language": "python",
   "name": "python3"
  },
  "language_info": {
   "codemirror_mode": {
    "name": "ipython",
    "version": 3
   },
   "file_extension": ".py",
   "mimetype": "text/x-python",
   "name": "python",
   "nbconvert_exporter": "python",
   "pygments_lexer": "ipython3",
   "version": "3.6.4"
  },
  "varInspector": {
   "cols": {
    "lenName": 16,
    "lenType": 16,
    "lenVar": 40
   },
   "kernels_config": {
    "python": {
     "delete_cmd_postfix": "",
     "delete_cmd_prefix": "del ",
     "library": "var_list.py",
     "varRefreshCmd": "print(var_dic_list())"
    },
    "r": {
     "delete_cmd_postfix": ") ",
     "delete_cmd_prefix": "rm(",
     "library": "var_list.r",
     "varRefreshCmd": "cat(var_dic_list()) "
    }
   },
   "types_to_exclude": [
    "module",
    "function",
    "builtin_function_or_method",
    "instance",
    "_Feature"
   ],
   "window_display": false
  }
 },
 "nbformat": 4,
 "nbformat_minor": 2
}
