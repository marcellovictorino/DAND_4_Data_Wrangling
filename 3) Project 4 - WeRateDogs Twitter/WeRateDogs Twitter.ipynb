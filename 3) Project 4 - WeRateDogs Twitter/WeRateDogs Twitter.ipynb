{
 "cells": [
  {
   "cell_type": "markdown",
   "metadata": {},
   "source": [
    "*Marcello Victorino* <br>\n",
    "*04/30/2019* -  "
   ]
  },
  {
   "cell_type": "markdown",
   "metadata": {},
   "source": [
    "# Introduction\n",
    "This project is part of a requirement to graduate in the Udacity's Data Analyst Nanodegree (*DAND*).\n",
    "\n",
    "It provides the opportunity to implement Data Wrangling in practice by gathering data from different sources, assessing it for quality and tidiness issues and then promote the necessary cleaning task - programatically.\n",
    "\n",
    "Finally, once the data is properly cleaned and stored, a brief analysis is conducted with visualizations, highlighting interesting insights.\n",
    "\n",
    "The data for this project was provided in partnership with the **WeRateDogs** channel from twitter, containing over 5,000 observations about dogs."
   ]
  },
  {
   "cell_type": "code",
   "execution_count": 1,
   "metadata": {},
   "outputs": [],
   "source": [
    "import pandas as pd\n",
    "import numpy as np"
   ]
  },
  {
   "cell_type": "markdown",
   "metadata": {},
   "source": [
    "## Gather"
   ]
  },
  {
   "cell_type": "code",
   "execution_count": 2,
   "metadata": {
    "scrolled": true
   },
   "outputs": [
    {
     "data": {
      "text/html": [
       "<div>\n",
       "<style scoped>\n",
       "    .dataframe tbody tr th:only-of-type {\n",
       "        vertical-align: middle;\n",
       "    }\n",
       "\n",
       "    .dataframe tbody tr th {\n",
       "        vertical-align: top;\n",
       "    }\n",
       "\n",
       "    .dataframe thead th {\n",
       "        text-align: right;\n",
       "    }\n",
       "</style>\n",
       "<table border=\"1\" class=\"dataframe\">\n",
       "  <thead>\n",
       "    <tr style=\"text-align: right;\">\n",
       "      <th></th>\n",
       "      <th>tweet_id</th>\n",
       "      <th>in_reply_to_status_id</th>\n",
       "      <th>in_reply_to_user_id</th>\n",
       "      <th>timestamp</th>\n",
       "      <th>source</th>\n",
       "      <th>text</th>\n",
       "      <th>retweeted_status_id</th>\n",
       "      <th>retweeted_status_user_id</th>\n",
       "      <th>retweeted_status_timestamp</th>\n",
       "      <th>expanded_urls</th>\n",
       "      <th>rating_numerator</th>\n",
       "      <th>rating_denominator</th>\n",
       "      <th>name</th>\n",
       "      <th>doggo</th>\n",
       "      <th>floofer</th>\n",
       "      <th>pupper</th>\n",
       "      <th>puppo</th>\n",
       "    </tr>\n",
       "  </thead>\n",
       "  <tbody>\n",
       "    <tr>\n",
       "      <th>0</th>\n",
       "      <td>892420643555336193</td>\n",
       "      <td>NaN</td>\n",
       "      <td>NaN</td>\n",
       "      <td>2017-08-01 16:23:56 +0000</td>\n",
       "      <td>&lt;a href=\"http://twitter.com/download/iphone\" r...</td>\n",
       "      <td>This is Phineas. He's a mystical boy. Only eve...</td>\n",
       "      <td>NaN</td>\n",
       "      <td>NaN</td>\n",
       "      <td>NaN</td>\n",
       "      <td>https://twitter.com/dog_rates/status/892420643...</td>\n",
       "      <td>13</td>\n",
       "      <td>10</td>\n",
       "      <td>Phineas</td>\n",
       "      <td>None</td>\n",
       "      <td>None</td>\n",
       "      <td>None</td>\n",
       "      <td>None</td>\n",
       "    </tr>\n",
       "    <tr>\n",
       "      <th>1</th>\n",
       "      <td>892177421306343426</td>\n",
       "      <td>NaN</td>\n",
       "      <td>NaN</td>\n",
       "      <td>2017-08-01 00:17:27 +0000</td>\n",
       "      <td>&lt;a href=\"http://twitter.com/download/iphone\" r...</td>\n",
       "      <td>This is Tilly. She's just checking pup on you....</td>\n",
       "      <td>NaN</td>\n",
       "      <td>NaN</td>\n",
       "      <td>NaN</td>\n",
       "      <td>https://twitter.com/dog_rates/status/892177421...</td>\n",
       "      <td>13</td>\n",
       "      <td>10</td>\n",
       "      <td>Tilly</td>\n",
       "      <td>None</td>\n",
       "      <td>None</td>\n",
       "      <td>None</td>\n",
       "      <td>None</td>\n",
       "    </tr>\n",
       "    <tr>\n",
       "      <th>2</th>\n",
       "      <td>891815181378084864</td>\n",
       "      <td>NaN</td>\n",
       "      <td>NaN</td>\n",
       "      <td>2017-07-31 00:18:03 +0000</td>\n",
       "      <td>&lt;a href=\"http://twitter.com/download/iphone\" r...</td>\n",
       "      <td>This is Archie. He is a rare Norwegian Pouncin...</td>\n",
       "      <td>NaN</td>\n",
       "      <td>NaN</td>\n",
       "      <td>NaN</td>\n",
       "      <td>https://twitter.com/dog_rates/status/891815181...</td>\n",
       "      <td>12</td>\n",
       "      <td>10</td>\n",
       "      <td>Archie</td>\n",
       "      <td>None</td>\n",
       "      <td>None</td>\n",
       "      <td>None</td>\n",
       "      <td>None</td>\n",
       "    </tr>\n",
       "  </tbody>\n",
       "</table>\n",
       "</div>"
      ],
      "text/plain": [
       "             tweet_id  in_reply_to_status_id  in_reply_to_user_id  \\\n",
       "0  892420643555336193                    NaN                  NaN   \n",
       "1  892177421306343426                    NaN                  NaN   \n",
       "2  891815181378084864                    NaN                  NaN   \n",
       "\n",
       "                   timestamp  \\\n",
       "0  2017-08-01 16:23:56 +0000   \n",
       "1  2017-08-01 00:17:27 +0000   \n",
       "2  2017-07-31 00:18:03 +0000   \n",
       "\n",
       "                                              source  \\\n",
       "0  <a href=\"http://twitter.com/download/iphone\" r...   \n",
       "1  <a href=\"http://twitter.com/download/iphone\" r...   \n",
       "2  <a href=\"http://twitter.com/download/iphone\" r...   \n",
       "\n",
       "                                                text  retweeted_status_id  \\\n",
       "0  This is Phineas. He's a mystical boy. Only eve...                  NaN   \n",
       "1  This is Tilly. She's just checking pup on you....                  NaN   \n",
       "2  This is Archie. He is a rare Norwegian Pouncin...                  NaN   \n",
       "\n",
       "   retweeted_status_user_id retweeted_status_timestamp  \\\n",
       "0                       NaN                        NaN   \n",
       "1                       NaN                        NaN   \n",
       "2                       NaN                        NaN   \n",
       "\n",
       "                                       expanded_urls  rating_numerator  \\\n",
       "0  https://twitter.com/dog_rates/status/892420643...                13   \n",
       "1  https://twitter.com/dog_rates/status/892177421...                13   \n",
       "2  https://twitter.com/dog_rates/status/891815181...                12   \n",
       "\n",
       "   rating_denominator     name doggo floofer pupper puppo  \n",
       "0                  10  Phineas  None    None   None  None  \n",
       "1                  10    Tilly  None    None   None  None  \n",
       "2                  10   Archie  None    None   None  None  "
      ]
     },
     "execution_count": 2,
     "metadata": {},
     "output_type": "execute_result"
    }
   ],
   "source": [
    "# Gathering Twitter Enhanced Archive data\n",
    "df_archive = pd.read_csv('twitter-archive-enhanced-2.csv')\n",
    "df_archive.head(3)"
   ]
  },
  {
   "cell_type": "code",
   "execution_count": 3,
   "metadata": {},
   "outputs": [
    {
     "data": {
      "text/html": [
       "<div>\n",
       "<style scoped>\n",
       "    .dataframe tbody tr th:only-of-type {\n",
       "        vertical-align: middle;\n",
       "    }\n",
       "\n",
       "    .dataframe tbody tr th {\n",
       "        vertical-align: top;\n",
       "    }\n",
       "\n",
       "    .dataframe thead th {\n",
       "        text-align: right;\n",
       "    }\n",
       "</style>\n",
       "<table border=\"1\" class=\"dataframe\">\n",
       "  <thead>\n",
       "    <tr style=\"text-align: right;\">\n",
       "      <th></th>\n",
       "      <th>tweet_id</th>\n",
       "      <th>jpg_url</th>\n",
       "      <th>img_num</th>\n",
       "      <th>p1</th>\n",
       "      <th>p1_conf</th>\n",
       "      <th>p1_dog</th>\n",
       "      <th>p2</th>\n",
       "      <th>p2_conf</th>\n",
       "      <th>p2_dog</th>\n",
       "      <th>p3</th>\n",
       "      <th>p3_conf</th>\n",
       "      <th>p3_dog</th>\n",
       "    </tr>\n",
       "  </thead>\n",
       "  <tbody>\n",
       "    <tr>\n",
       "      <th>0</th>\n",
       "      <td>666020888022790149</td>\n",
       "      <td>https://pbs.twimg.com/media/CT4udn0WwAA0aMy.jpg</td>\n",
       "      <td>1</td>\n",
       "      <td>Welsh_springer_spaniel</td>\n",
       "      <td>0.465074</td>\n",
       "      <td>True</td>\n",
       "      <td>collie</td>\n",
       "      <td>0.156665</td>\n",
       "      <td>True</td>\n",
       "      <td>Shetland_sheepdog</td>\n",
       "      <td>0.061428</td>\n",
       "      <td>True</td>\n",
       "    </tr>\n",
       "    <tr>\n",
       "      <th>1</th>\n",
       "      <td>666029285002620928</td>\n",
       "      <td>https://pbs.twimg.com/media/CT42GRgUYAA5iDo.jpg</td>\n",
       "      <td>1</td>\n",
       "      <td>redbone</td>\n",
       "      <td>0.506826</td>\n",
       "      <td>True</td>\n",
       "      <td>miniature_pinscher</td>\n",
       "      <td>0.074192</td>\n",
       "      <td>True</td>\n",
       "      <td>Rhodesian_ridgeback</td>\n",
       "      <td>0.072010</td>\n",
       "      <td>True</td>\n",
       "    </tr>\n",
       "  </tbody>\n",
       "</table>\n",
       "</div>"
      ],
      "text/plain": [
       "             tweet_id                                          jpg_url  \\\n",
       "0  666020888022790149  https://pbs.twimg.com/media/CT4udn0WwAA0aMy.jpg   \n",
       "1  666029285002620928  https://pbs.twimg.com/media/CT42GRgUYAA5iDo.jpg   \n",
       "\n",
       "   img_num                      p1   p1_conf  p1_dog                  p2  \\\n",
       "0        1  Welsh_springer_spaniel  0.465074    True              collie   \n",
       "1        1                 redbone  0.506826    True  miniature_pinscher   \n",
       "\n",
       "    p2_conf  p2_dog                   p3   p3_conf  p3_dog  \n",
       "0  0.156665    True    Shetland_sheepdog  0.061428    True  \n",
       "1  0.074192    True  Rhodesian_ridgeback  0.072010    True  "
      ]
     },
     "execution_count": 3,
     "metadata": {},
     "output_type": "execute_result"
    }
   ],
   "source": [
    "# Gathering Image Predictions for Dog Breed - Available online\n",
    "import requests\n",
    "import os\n",
    "\n",
    "# Avoid redownloading if file already saved locally\n",
    "if 'dog_breed.txt' in os.listdir():\n",
    "    pass\n",
    "\n",
    "else:\n",
    "    url = 'https://d17h27t6h515a5.cloudfront.net/topher/2017/August/599fd2ad_image-predictions/image-predictions.tsv'\n",
    "\n",
    "    # Accessing file online\n",
    "    r = requests.get(url)\n",
    "\n",
    "    # Saving content locally\n",
    "    with open('dog_breed.txt', 'wb') as fh:\n",
    "        fh.write(r.content)\n",
    "\n",
    "# Reading file as Dataframe\n",
    "if 'dog_breed.csv' in os.listdir():\n",
    "    df_breed = pd.read_csv('dog_breed.csv')\n",
    "\n",
    "else:\n",
    "    df_breed = pd.read_csv('dog_breed.txt', sep='\\t')\n",
    "    df_breed.to_csv('dog_breed.csv', index=False)\n",
    "\n",
    "df_breed.tweet_id = df_breed.tweet_id.astype(str)\n",
    "df_breed.head(2)"
   ]
  },
  {
   "cell_type": "code",
   "execution_count": 4,
   "metadata": {},
   "outputs": [],
   "source": [
    "# Gathering data from Twitter API\n",
    "import tweepy\n",
    "from twitter_secret_credentials import Twitter_API_Authenticate # personal script\n",
    "\n",
    "# Authenticating connection to Twitter API\n",
    "api = Twitter_API_Authenticate() # wait_on_rate_limit=True, wait_on_rate_limit_notify=True"
   ]
  },
  {
   "cell_type": "code",
   "execution_count": 5,
   "metadata": {},
   "outputs": [
    {
     "name": "stdout",
     "output_type": "stream",
     "text": [
      "JSON data has already been downloaded.\n"
     ]
    }
   ],
   "source": [
    "# Retrieve data from Twitter ID (JSON format)\n",
    "import json\n",
    "from tqdm import tqdm_notebook as progressbar\n",
    "\n",
    "# Avoid redownloading if file already saved locally\n",
    "if 'tweet_json.txt' in os.listdir():\n",
    "    print('JSON data has already been downloaded.')\n",
    "    pass\n",
    "\n",
    "else:\n",
    "    # Retrieve data from Twitter API and save locally\n",
    "    fails = []\n",
    "    count = 0\n",
    "    with open('tweet_json.txt', 'w') as file:\n",
    "        for tweet_id in progressbar(df_archive.tweet_id[:]):\n",
    "            count += 1\n",
    "            try:\n",
    "                tweet = api.get_status(tweet_id, tweet_mode='extended')\n",
    "                json.dump(tweet._json, file)\n",
    "                file.write('\\n') # important to separate each tweet  \n",
    "\n",
    "            except:\n",
    "                fails.append(tweet_id)\n",
    "\n",
    "    fail_percentage = len(fails)/count\n",
    "    print(f'Successfully read: {(1 - fail_percentage):.0%}') # 19 tweets could not be read | 25 minutes"
   ]
  },
  {
   "cell_type": "code",
   "execution_count": 6,
   "metadata": {
    "scrolled": false
   },
   "outputs": [
    {
     "name": "stdout",
     "output_type": "stream",
     "text": [
      "Data already parsed and saved.\n"
     ]
    },
    {
     "data": {
      "text/html": [
       "<div>\n",
       "<style scoped>\n",
       "    .dataframe tbody tr th:only-of-type {\n",
       "        vertical-align: middle;\n",
       "    }\n",
       "\n",
       "    .dataframe tbody tr th {\n",
       "        vertical-align: top;\n",
       "    }\n",
       "\n",
       "    .dataframe thead th {\n",
       "        text-align: right;\n",
       "    }\n",
       "</style>\n",
       "<table border=\"1\" class=\"dataframe\">\n",
       "  <thead>\n",
       "    <tr style=\"text-align: right;\">\n",
       "      <th></th>\n",
       "      <th>tweet_id</th>\n",
       "      <th>created</th>\n",
       "      <th>retweet</th>\n",
       "      <th>favorite</th>\n",
       "      <th>text</th>\n",
       "      <th>name</th>\n",
       "      <th>rate</th>\n",
       "      <th>year</th>\n",
       "      <th>month</th>\n",
       "      <th>weekday</th>\n",
       "      <th>hour</th>\n",
       "    </tr>\n",
       "  </thead>\n",
       "  <tbody>\n",
       "    <tr>\n",
       "      <th>0</th>\n",
       "      <td>892420643555336193</td>\n",
       "      <td>2017-08-01 16:23:56+00:00</td>\n",
       "      <td>8197</td>\n",
       "      <td>37569</td>\n",
       "      <td>This is Phineas. He's a mystical boy. Only eve...</td>\n",
       "      <td>Phineas</td>\n",
       "      <td>13.0</td>\n",
       "      <td>2017</td>\n",
       "      <td>8</td>\n",
       "      <td>Tuesday</td>\n",
       "      <td>16</td>\n",
       "    </tr>\n",
       "    <tr>\n",
       "      <th>1</th>\n",
       "      <td>892177421306343426</td>\n",
       "      <td>2017-08-01 00:17:27+00:00</td>\n",
       "      <td>6060</td>\n",
       "      <td>32304</td>\n",
       "      <td>This is Tilly. She's just checking pup on you....</td>\n",
       "      <td>Tilly</td>\n",
       "      <td>13.0</td>\n",
       "      <td>2017</td>\n",
       "      <td>8</td>\n",
       "      <td>Tuesday</td>\n",
       "      <td>0</td>\n",
       "    </tr>\n",
       "  </tbody>\n",
       "</table>\n",
       "</div>"
      ],
      "text/plain": [
       "             tweet_id                    created  retweet  favorite  \\\n",
       "0  892420643555336193  2017-08-01 16:23:56+00:00     8197     37569   \n",
       "1  892177421306343426  2017-08-01 00:17:27+00:00     6060     32304   \n",
       "\n",
       "                                                text     name  rate  year  \\\n",
       "0  This is Phineas. He's a mystical boy. Only eve...  Phineas  13.0  2017   \n",
       "1  This is Tilly. She's just checking pup on you....    Tilly  13.0  2017   \n",
       "\n",
       "   month  weekday  hour  \n",
       "0      8  Tuesday    16  \n",
       "1      8  Tuesday     0  "
      ]
     },
     "execution_count": 6,
     "metadata": {},
     "output_type": "execute_result"
    }
   ],
   "source": [
    "# Actually working with the JSON data extracted\n",
    "\n",
    "# Avoid duplicating work if data already parsed and saved locally\n",
    "if 'tweet_parsed_data.csv' in os.listdir():\n",
    "    print('Data already parsed and saved.')\n",
    "    df_tweet = pd.read_csv('tweet_parsed_data.csv')\n",
    "\n",
    "else:\n",
    "    with open('tweet_json.txt', 'r') as file:\n",
    "        tweet_jsons = file.readlines()\n",
    "\n",
    "    # Iterating over each individual tweet\n",
    "    tweet_data = list()\n",
    "\n",
    "    for tweet in tweet_jsons:\n",
    "        data = dict()\n",
    "\n",
    "        js = json.loads(tweet) # Reading each tweet string as JSON\n",
    "        \n",
    "        # Skip text starting with \"RT\" or \"@\"\n",
    "        if js['full_text'].startswith(('RT', '@')):\n",
    "            continue\n",
    "\n",
    "    #         print(json.dumps(js, indent=4)) # Pretty printing JSON\n",
    "        data['tweet_id'] = js['id_str']\n",
    "        data['created'] = js['created_at']\n",
    "        data['retweet'] = js['retweet_count']\n",
    "        data['favorite'] = js['favorite_count']\n",
    "        data['text'] = js['full_text']\n",
    "\n",
    "        tweet_data.append(data)\n",
    "\n",
    "    # Reading data into Dataframe\n",
    "    df_tweet = pd.DataFrame(tweet_data, columns=data.keys())\n",
    "\n",
    "    # Extract dog's name\n",
    "    df_tweet['name'] = df_tweet.text.str.extract(' ([A-Z][a-z]*)')\n",
    "\n",
    "    # Extract rating\n",
    "    df_tweet['rate'] = df_tweet.text.str.extract('([0-9]*)/[0-9]{2}')\n",
    "\n",
    "    # Transforming df_tweet.created as Datetime\n",
    "    df_tweet.created = pd.to_datetime(df_tweet.created)\n",
    "\n",
    "    # Extract datetime from Created feature\n",
    "    df_tweet['year'] = df_tweet.created.dt.year\n",
    "    df_tweet['month'] = df_tweet.created.dt.month\n",
    "    df_tweet['weekday'] = df_tweet.created.dt.day_name()\n",
    "    df_tweet['hour'] = df_tweet.created.dt.hour\n",
    "\n",
    "    # Saving it locally\n",
    "    df_tweet.to_csv('tweet_parsed_data.csv', index=False)\n",
    "\n",
    "df_tweet.tweet_id = df_tweet.tweet_id.astype(str)\n",
    "df_tweet.head(2)"
   ]
  },
  {
   "cell_type": "markdown",
   "metadata": {},
   "source": [
    "# TODO:\n",
    "+ check tidiness issue\n",
    "    - df_archive: doggo, fluffer etc should be melted into 1 column 'category'\n",
    "    - Separate table for Dog information: tweet_id, dog name, dog breed (breed + confidence), rating\n",
    "    - Separate Table for Tweet: tweet_id, creted, retweet count, favorite count, year+month etc."
   ]
  },
  {
   "cell_type": "code",
   "execution_count": null,
   "metadata": {},
   "outputs": [],
   "source": []
  },
  {
   "cell_type": "markdown",
   "metadata": {},
   "source": [
    "## Data Assessment and Cleaning"
   ]
  },
  {
   "cell_type": "code",
   "execution_count": 7,
   "metadata": {},
   "outputs": [
    {
     "data": {
      "text/plain": [
       "Index(['tweet_id', 'in_reply_to_status_id', 'in_reply_to_user_id', 'timestamp',\n",
       "       'source', 'text', 'retweeted_status_id', 'retweeted_status_user_id',\n",
       "       'retweeted_status_timestamp', 'expanded_urls', 'rating_numerator',\n",
       "       'rating_denominator', 'name', 'doggo', 'floofer', 'pupper', 'puppo'],\n",
       "      dtype='object')"
      ]
     },
     "execution_count": 7,
     "metadata": {},
     "output_type": "execute_result"
    }
   ],
   "source": [
    "df_archive.columns"
   ]
  },
  {
   "cell_type": "markdown",
   "metadata": {},
   "source": [
    "### 1) Twitter Archived Enhanced Dataset\n",
    "#### Define\n",
    "Tidiness:\n",
    "+ Multiple stage categories (puppo, fluffer etc.) in separate columns -> should be melted into a single Category variable\n",
    "\n",
    "Quality:\n",
    "+ tweet_id stored as integer -> should be as string\n",
    "+ Many columns filled with missing values or useless data -> remove 7 columns: ['in_reply_to_status_id', 'in_reply_to_user_id', 'source', 'retweeted_status_id', retweeted_status_user_id', retweeted_status_timestamp', 'expanded_urls']\n",
    "+ Replace 'None' entries with `np.NaN`"
   ]
  },
  {
   "cell_type": "markdown",
   "metadata": {},
   "source": [
    "#### Code"
   ]
  },
  {
   "cell_type": "code",
   "execution_count": null,
   "metadata": {
    "scrolled": true
   },
   "outputs": [],
   "source": [
    "# Tidy: grouping many columns into a single one\n",
    "# Obs: pd.melt did not accomplish what I wanted\n",
    "\n",
    "df_archive['category'] = np.where(df_archive.doggo != 'None', 'doggo',\n",
    "                            np.where(df_archive.floofer != 'None', 'floofer',\n",
    "                            np.where(df_archive.pupper != 'None', 'puper',\n",
    "                            np.where(df_archive.puppo != 'None', 'puppo', np.NaN))))\n",
    "\n",
    "# Quality: Dropping irrelavant or columns already available in other dataset\n",
    "df_archive.drop(columns=['in_reply_to_status_id', 'in_reply_to_user_id', 'timestamp',\n",
    "       'source', 'text', 'retweeted_status_id', 'retweeted_status_user_id',\n",
    "       'retweeted_status_timestamp', 'expanded_urls', 'rating_numerator',\n",
    "       'rating_denominator', 'doggo', 'floofer', 'pupper', 'puppo'], inplace=True)\n",
    "\n",
    "# Quality: Store ID as string for later joining reference\n",
    "df_archive.tweet_id = df_archive.tweet_id.astype(str)\n",
    "\n",
    "# Quality: Replace 'None' entries with NaN\n",
    "df_archive.replace('None', np.nan);"
   ]
  },
  {
   "cell_type": "markdown",
   "metadata": {},
   "source": [
    "#### Test"
   ]
  },
  {
   "cell_type": "code",
   "execution_count": 9,
   "metadata": {},
   "outputs": [
    {
     "data": {
      "text/html": [
       "<div>\n",
       "<style scoped>\n",
       "    .dataframe tbody tr th:only-of-type {\n",
       "        vertical-align: middle;\n",
       "    }\n",
       "\n",
       "    .dataframe tbody tr th {\n",
       "        vertical-align: top;\n",
       "    }\n",
       "\n",
       "    .dataframe thead th {\n",
       "        text-align: right;\n",
       "    }\n",
       "</style>\n",
       "<table border=\"1\" class=\"dataframe\">\n",
       "  <thead>\n",
       "    <tr style=\"text-align: right;\">\n",
       "      <th></th>\n",
       "      <th>tweet_id</th>\n",
       "      <th>name</th>\n",
       "      <th>category</th>\n",
       "    </tr>\n",
       "  </thead>\n",
       "  <tbody>\n",
       "    <tr>\n",
       "      <th>8</th>\n",
       "      <td>890609185150312448</td>\n",
       "      <td>Zoey</td>\n",
       "      <td>nan</td>\n",
       "    </tr>\n",
       "    <tr>\n",
       "      <th>9</th>\n",
       "      <td>890240255349198849</td>\n",
       "      <td>Cassie</td>\n",
       "      <td>doggo</td>\n",
       "    </tr>\n",
       "    <tr>\n",
       "      <th>10</th>\n",
       "      <td>890006608113172480</td>\n",
       "      <td>Koda</td>\n",
       "      <td>nan</td>\n",
       "    </tr>\n",
       "    <tr>\n",
       "      <th>11</th>\n",
       "      <td>889880896479866881</td>\n",
       "      <td>Bruno</td>\n",
       "      <td>nan</td>\n",
       "    </tr>\n",
       "    <tr>\n",
       "      <th>12</th>\n",
       "      <td>889665388333682689</td>\n",
       "      <td>None</td>\n",
       "      <td>puppo</td>\n",
       "    </tr>\n",
       "    <tr>\n",
       "      <th>13</th>\n",
       "      <td>889638837579907072</td>\n",
       "      <td>Ted</td>\n",
       "      <td>nan</td>\n",
       "    </tr>\n",
       "  </tbody>\n",
       "</table>\n",
       "</div>"
      ],
      "text/plain": [
       "              tweet_id    name category\n",
       "8   890609185150312448    Zoey      nan\n",
       "9   890240255349198849  Cassie    doggo\n",
       "10  890006608113172480    Koda      nan\n",
       "11  889880896479866881   Bruno      nan\n",
       "12  889665388333682689    None    puppo\n",
       "13  889638837579907072     Ted      nan"
      ]
     },
     "execution_count": 9,
     "metadata": {},
     "output_type": "execute_result"
    }
   ],
   "source": [
    "df_archive.loc[8:13]"
   ]
  },
  {
   "cell_type": "markdown",
   "metadata": {},
   "source": [
    "### 2) Dog Breed\n",
    "#### Define\n",
    "Tidiness:\n",
    "\n",
    "Quality:\n",
    "+ Remove irrelevant columns -> ['p2', 'p2_conf', 'p2_dog', 'p3', 'p3_conf', 'p3_dog']\n",
    "+ Remove entries with Confidence Score <= 59% -> horribly inaccurate dog breed\n",
    "+ Remove entries Not Dog -> Dog = False"
   ]
  },
  {
   "cell_type": "code",
   "execution_count": 10,
   "metadata": {},
   "outputs": [],
   "source": [
    "df_breed.drop(columns=['p2', 'p2_conf', 'p2_dog', 'p3', 'p3_conf', 'p3_dog'], inplace=True)"
   ]
  },
  {
   "cell_type": "code",
   "execution_count": 14,
   "metadata": {},
   "outputs": [
    {
     "data": {
      "text/plain": [
       "810"
      ]
     },
     "execution_count": 14,
     "metadata": {},
     "output_type": "execute_result"
    }
   ],
   "source": [
    "# Remove observations with confidence score lower than 59% -> incorrect dog breed\n",
    "df_breed = df_breed.query('p1_conf >= 0.59')\n",
    "\n",
    "# Remove observations not containg a dog\n",
    "df_breed = df_breed.query('p1_dog == True')\n",
    "df_breed.head()\n",
    "\n",
    "len(df_breed) # Total of 810 entries with \"Good Accurate\" data"
   ]
  },
  {
   "cell_type": "markdown",
   "metadata": {},
   "source": [
    "#### Test"
   ]
  },
  {
   "cell_type": "code",
   "execution_count": 20,
   "metadata": {},
   "outputs": [],
   "source": [
    "# Test for Confidence Score\n",
    "assert (df_breed.p1_conf >= 0.59).all()"
   ]
  },
  {
   "cell_type": "code",
   "execution_count": 21,
   "metadata": {},
   "outputs": [],
   "source": [
    "# Test for is Dog\n",
    "assert (df_breed.p1_dog == True).all()"
   ]
  },
  {
   "cell_type": "code",
   "execution_count": 15,
   "metadata": {},
   "outputs": [
    {
     "data": {
      "text/html": [
       "<div>\n",
       "<style scoped>\n",
       "    .dataframe tbody tr th:only-of-type {\n",
       "        vertical-align: middle;\n",
       "    }\n",
       "\n",
       "    .dataframe tbody tr th {\n",
       "        vertical-align: top;\n",
       "    }\n",
       "\n",
       "    .dataframe thead th {\n",
       "        text-align: right;\n",
       "    }\n",
       "</style>\n",
       "<table border=\"1\" class=\"dataframe\">\n",
       "  <thead>\n",
       "    <tr style=\"text-align: right;\">\n",
       "      <th></th>\n",
       "      <th>tweet_id</th>\n",
       "      <th>jpg_url</th>\n",
       "      <th>img_num</th>\n",
       "      <th>p1</th>\n",
       "      <th>p1_conf</th>\n",
       "      <th>p1_dog</th>\n",
       "    </tr>\n",
       "  </thead>\n",
       "  <tbody>\n",
       "    <tr>\n",
       "      <th>2</th>\n",
       "      <td>666033412701032449</td>\n",
       "      <td>https://pbs.twimg.com/media/CT4521TWwAEvMyu.jpg</td>\n",
       "      <td>1</td>\n",
       "      <td>German_shepherd</td>\n",
       "      <td>0.596461</td>\n",
       "      <td>True</td>\n",
       "    </tr>\n",
       "    <tr>\n",
       "      <th>5</th>\n",
       "      <td>666050758794694657</td>\n",
       "      <td>https://pbs.twimg.com/media/CT5Jof1WUAEuVxN.jpg</td>\n",
       "      <td>1</td>\n",
       "      <td>Bernese_mountain_dog</td>\n",
       "      <td>0.651137</td>\n",
       "      <td>True</td>\n",
       "    </tr>\n",
       "    <tr>\n",
       "      <th>7</th>\n",
       "      <td>666055525042405380</td>\n",
       "      <td>https://pbs.twimg.com/media/CT5N9tpXIAAifs1.jpg</td>\n",
       "      <td>1</td>\n",
       "      <td>chow</td>\n",
       "      <td>0.692517</td>\n",
       "      <td>True</td>\n",
       "    </tr>\n",
       "  </tbody>\n",
       "</table>\n",
       "</div>"
      ],
      "text/plain": [
       "             tweet_id                                          jpg_url  \\\n",
       "2  666033412701032449  https://pbs.twimg.com/media/CT4521TWwAEvMyu.jpg   \n",
       "5  666050758794694657  https://pbs.twimg.com/media/CT5Jof1WUAEuVxN.jpg   \n",
       "7  666055525042405380  https://pbs.twimg.com/media/CT5N9tpXIAAifs1.jpg   \n",
       "\n",
       "   img_num                    p1   p1_conf  p1_dog  \n",
       "2        1       German_shepherd  0.596461    True  \n",
       "5        1  Bernese_mountain_dog  0.651137    True  \n",
       "7        1                  chow  0.692517    True  "
      ]
     },
     "execution_count": 15,
     "metadata": {},
     "output_type": "execute_result"
    }
   ],
   "source": [
    "df_breed.head(3)"
   ]
  },
  {
   "cell_type": "markdown",
   "metadata": {},
   "source": [
    "# Data Wrangling Report\n",
    "This part of the project consisted in **Gathering** data from 3 different sources and pre-storing them locally, and then **Assessing** and **Cleaning** as necessary (*Quality* and *Tidiness* issues).\n",
    "\n",
    "Once cleaned, the data was saved locally as its \"final\" version, making sure each table contains information regarding a specific subject.\n",
    "\n",
    "## Gathering\n",
    "+ **Twitter Archived Enhanced**: this `.csv` file was made available and easily incorporated using the `pd.read_csv` function\n",
    "\n",
    "+ **Dog Breed**: the data was available online in a specific `url`, requiring to access it via the `requests` library and writing it to a local file. Since this data is *tabular separated*, it was incorporated via the `pd.read_csv` function, specifying the parameter `sep='\\t'`, to read from tabular structure. The pre-version of this file was saved as **dog_breed.csv**\n",
    "\n",
    "+ **Twitter Specific Data**: this data was accessed via the *Twitter API*, using the wrapper library `tweepy` to easy authentication and information retrieval. With the unique *Tweet ID* for each observation, it was possible to extract additional data from each tweet by parsing the *JSON* format returned by the API (using the `json` package). More specifically, we obtained the following:\n",
    "    - *Date of Creation*: allowing to extract further data such as `year`, `month`, `day of week`, and `hour of day`;\n",
    "    - *Dog Name*: using `Regex` to find and extract the majority of dog names (note: not all tweets contained this information)\n",
    "    - *Retweet Count*: amount of times a specific tweet was shared by others\n",
    "    - *Favorite Count*: number of times a specific tweet was \"liked\" by users\n",
    "\n",
    "## Assessing & Cleaning\n",
    "### Tidiness Issues\n",
    "1. asd\n",
    "2. asd\n",
    "\n",
    "### Quality Issues\n",
    "1. asd\n",
    "2. asd\n",
    "3. asd\n",
    "4. asd\n",
    "5. asd\n",
    "6. asd\n",
    "7. asd\n",
    "8. asd\n",
    "9. ad\n",
    "10. asd"
   ]
  }
 ],
 "metadata": {
  "kernelspec": {
   "display_name": "Python 3",
   "language": "python",
   "name": "python3"
  },
  "language_info": {
   "codemirror_mode": {
    "name": "ipython",
    "version": 3
   },
   "file_extension": ".py",
   "mimetype": "text/x-python",
   "name": "python",
   "nbconvert_exporter": "python",
   "pygments_lexer": "ipython3",
   "version": "3.6.4"
  },
  "varInspector": {
   "cols": {
    "lenName": 16,
    "lenType": 16,
    "lenVar": 40
   },
   "kernels_config": {
    "python": {
     "delete_cmd_postfix": "",
     "delete_cmd_prefix": "del ",
     "library": "var_list.py",
     "varRefreshCmd": "print(var_dic_list())"
    },
    "r": {
     "delete_cmd_postfix": ") ",
     "delete_cmd_prefix": "rm(",
     "library": "var_list.r",
     "varRefreshCmd": "cat(var_dic_list()) "
    }
   },
   "types_to_exclude": [
    "module",
    "function",
    "builtin_function_or_method",
    "instance",
    "_Feature"
   ],
   "window_display": false
  }
 },
 "nbformat": 4,
 "nbformat_minor": 2
}
