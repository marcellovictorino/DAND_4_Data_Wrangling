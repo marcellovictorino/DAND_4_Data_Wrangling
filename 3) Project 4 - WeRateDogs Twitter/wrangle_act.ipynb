{
 "cells": [
  {
   "cell_type": "markdown",
   "metadata": {},
   "source": [
    "*Marcello Victorino* <br>\n",
    "*04/30/2019* -  "
   ]
  },
  {
   "cell_type": "markdown",
   "metadata": {},
   "source": [
    "# Introduction\n",
    "This project is part of a requirement to graduate in the Udacity's Data Analyst Nanodegree (*DAND*).\n",
    "\n",
    "It provides the opportunity to implement Data Wrangling in practice by gathering data from different sources, assessing it for quality and tidiness issues and then promote the necessary cleaning task - programatically.\n",
    "\n",
    "Finally, once the data is properly cleaned and stored, a brief analysis is conducted with visualizations, highlighting interesting insights.\n",
    "\n",
    "The data for this project was provided in partnership with the **WeRateDogs** channel from twitter, containing over 5,000 observations about dogs."
   ]
  },
  {
   "cell_type": "code",
   "execution_count": 1,
   "metadata": {},
   "outputs": [],
   "source": [
    "import pandas as pd\n",
    "import numpy as np"
   ]
  },
  {
   "cell_type": "markdown",
   "metadata": {},
   "source": [
    "## Gather"
   ]
  },
  {
   "cell_type": "code",
   "execution_count": 2,
   "metadata": {
    "scrolled": true
   },
   "outputs": [
    {
     "data": {
      "text/html": [
       "<div>\n",
       "<style scoped>\n",
       "    .dataframe tbody tr th:only-of-type {\n",
       "        vertical-align: middle;\n",
       "    }\n",
       "\n",
       "    .dataframe tbody tr th {\n",
       "        vertical-align: top;\n",
       "    }\n",
       "\n",
       "    .dataframe thead th {\n",
       "        text-align: right;\n",
       "    }\n",
       "</style>\n",
       "<table border=\"1\" class=\"dataframe\">\n",
       "  <thead>\n",
       "    <tr style=\"text-align: right;\">\n",
       "      <th></th>\n",
       "      <th>tweet_id</th>\n",
       "      <th>in_reply_to_status_id</th>\n",
       "      <th>in_reply_to_user_id</th>\n",
       "      <th>timestamp</th>\n",
       "      <th>source</th>\n",
       "      <th>text</th>\n",
       "      <th>retweeted_status_id</th>\n",
       "      <th>retweeted_status_user_id</th>\n",
       "      <th>retweeted_status_timestamp</th>\n",
       "      <th>expanded_urls</th>\n",
       "      <th>rating_numerator</th>\n",
       "      <th>rating_denominator</th>\n",
       "      <th>name</th>\n",
       "      <th>doggo</th>\n",
       "      <th>floofer</th>\n",
       "      <th>pupper</th>\n",
       "      <th>puppo</th>\n",
       "    </tr>\n",
       "  </thead>\n",
       "  <tbody>\n",
       "    <tr>\n",
       "      <th>0</th>\n",
       "      <td>892420643555336193</td>\n",
       "      <td>NaN</td>\n",
       "      <td>NaN</td>\n",
       "      <td>2017-08-01 16:23:56 +0000</td>\n",
       "      <td>&lt;a href=\"http://twitter.com/download/iphone\" r...</td>\n",
       "      <td>This is Phineas. He's a mystical boy. Only eve...</td>\n",
       "      <td>NaN</td>\n",
       "      <td>NaN</td>\n",
       "      <td>NaN</td>\n",
       "      <td>https://twitter.com/dog_rates/status/892420643...</td>\n",
       "      <td>13</td>\n",
       "      <td>10</td>\n",
       "      <td>Phineas</td>\n",
       "      <td>None</td>\n",
       "      <td>None</td>\n",
       "      <td>None</td>\n",
       "      <td>None</td>\n",
       "    </tr>\n",
       "    <tr>\n",
       "      <th>1</th>\n",
       "      <td>892177421306343426</td>\n",
       "      <td>NaN</td>\n",
       "      <td>NaN</td>\n",
       "      <td>2017-08-01 00:17:27 +0000</td>\n",
       "      <td>&lt;a href=\"http://twitter.com/download/iphone\" r...</td>\n",
       "      <td>This is Tilly. She's just checking pup on you....</td>\n",
       "      <td>NaN</td>\n",
       "      <td>NaN</td>\n",
       "      <td>NaN</td>\n",
       "      <td>https://twitter.com/dog_rates/status/892177421...</td>\n",
       "      <td>13</td>\n",
       "      <td>10</td>\n",
       "      <td>Tilly</td>\n",
       "      <td>None</td>\n",
       "      <td>None</td>\n",
       "      <td>None</td>\n",
       "      <td>None</td>\n",
       "    </tr>\n",
       "    <tr>\n",
       "      <th>2</th>\n",
       "      <td>891815181378084864</td>\n",
       "      <td>NaN</td>\n",
       "      <td>NaN</td>\n",
       "      <td>2017-07-31 00:18:03 +0000</td>\n",
       "      <td>&lt;a href=\"http://twitter.com/download/iphone\" r...</td>\n",
       "      <td>This is Archie. He is a rare Norwegian Pouncin...</td>\n",
       "      <td>NaN</td>\n",
       "      <td>NaN</td>\n",
       "      <td>NaN</td>\n",
       "      <td>https://twitter.com/dog_rates/status/891815181...</td>\n",
       "      <td>12</td>\n",
       "      <td>10</td>\n",
       "      <td>Archie</td>\n",
       "      <td>None</td>\n",
       "      <td>None</td>\n",
       "      <td>None</td>\n",
       "      <td>None</td>\n",
       "    </tr>\n",
       "  </tbody>\n",
       "</table>\n",
       "</div>"
      ],
      "text/plain": [
       "             tweet_id  in_reply_to_status_id  in_reply_to_user_id  \\\n",
       "0  892420643555336193                    NaN                  NaN   \n",
       "1  892177421306343426                    NaN                  NaN   \n",
       "2  891815181378084864                    NaN                  NaN   \n",
       "\n",
       "                   timestamp  \\\n",
       "0  2017-08-01 16:23:56 +0000   \n",
       "1  2017-08-01 00:17:27 +0000   \n",
       "2  2017-07-31 00:18:03 +0000   \n",
       "\n",
       "                                              source  \\\n",
       "0  <a href=\"http://twitter.com/download/iphone\" r...   \n",
       "1  <a href=\"http://twitter.com/download/iphone\" r...   \n",
       "2  <a href=\"http://twitter.com/download/iphone\" r...   \n",
       "\n",
       "                                                text  retweeted_status_id  \\\n",
       "0  This is Phineas. He's a mystical boy. Only eve...                  NaN   \n",
       "1  This is Tilly. She's just checking pup on you....                  NaN   \n",
       "2  This is Archie. He is a rare Norwegian Pouncin...                  NaN   \n",
       "\n",
       "   retweeted_status_user_id retweeted_status_timestamp  \\\n",
       "0                       NaN                        NaN   \n",
       "1                       NaN                        NaN   \n",
       "2                       NaN                        NaN   \n",
       "\n",
       "                                       expanded_urls  rating_numerator  \\\n",
       "0  https://twitter.com/dog_rates/status/892420643...                13   \n",
       "1  https://twitter.com/dog_rates/status/892177421...                13   \n",
       "2  https://twitter.com/dog_rates/status/891815181...                12   \n",
       "\n",
       "   rating_denominator     name doggo floofer pupper puppo  \n",
       "0                  10  Phineas  None    None   None  None  \n",
       "1                  10    Tilly  None    None   None  None  \n",
       "2                  10   Archie  None    None   None  None  "
      ]
     },
     "execution_count": 2,
     "metadata": {},
     "output_type": "execute_result"
    }
   ],
   "source": [
    "# Gathering Twitter Enhanced Archive data\n",
    "df_archive = pd.read_csv('twitter-archive-enhanced.csv')\n",
    "df_archive.head(3)"
   ]
  },
  {
   "cell_type": "code",
   "execution_count": 3,
   "metadata": {},
   "outputs": [
    {
     "data": {
      "text/html": [
       "<div>\n",
       "<style scoped>\n",
       "    .dataframe tbody tr th:only-of-type {\n",
       "        vertical-align: middle;\n",
       "    }\n",
       "\n",
       "    .dataframe tbody tr th {\n",
       "        vertical-align: top;\n",
       "    }\n",
       "\n",
       "    .dataframe thead th {\n",
       "        text-align: right;\n",
       "    }\n",
       "</style>\n",
       "<table border=\"1\" class=\"dataframe\">\n",
       "  <thead>\n",
       "    <tr style=\"text-align: right;\">\n",
       "      <th></th>\n",
       "      <th>tweet_id</th>\n",
       "      <th>jpg_url</th>\n",
       "      <th>img_num</th>\n",
       "      <th>p1</th>\n",
       "      <th>p1_conf</th>\n",
       "      <th>p1_dog</th>\n",
       "      <th>p2</th>\n",
       "      <th>p2_conf</th>\n",
       "      <th>p2_dog</th>\n",
       "      <th>p3</th>\n",
       "      <th>p3_conf</th>\n",
       "      <th>p3_dog</th>\n",
       "    </tr>\n",
       "  </thead>\n",
       "  <tbody>\n",
       "    <tr>\n",
       "      <th>0</th>\n",
       "      <td>666020888022790149</td>\n",
       "      <td>https://pbs.twimg.com/media/CT4udn0WwAA0aMy.jpg</td>\n",
       "      <td>1</td>\n",
       "      <td>Welsh_springer_spaniel</td>\n",
       "      <td>0.465074</td>\n",
       "      <td>True</td>\n",
       "      <td>collie</td>\n",
       "      <td>0.156665</td>\n",
       "      <td>True</td>\n",
       "      <td>Shetland_sheepdog</td>\n",
       "      <td>0.061428</td>\n",
       "      <td>True</td>\n",
       "    </tr>\n",
       "    <tr>\n",
       "      <th>1</th>\n",
       "      <td>666029285002620928</td>\n",
       "      <td>https://pbs.twimg.com/media/CT42GRgUYAA5iDo.jpg</td>\n",
       "      <td>1</td>\n",
       "      <td>redbone</td>\n",
       "      <td>0.506826</td>\n",
       "      <td>True</td>\n",
       "      <td>miniature_pinscher</td>\n",
       "      <td>0.074192</td>\n",
       "      <td>True</td>\n",
       "      <td>Rhodesian_ridgeback</td>\n",
       "      <td>0.072010</td>\n",
       "      <td>True</td>\n",
       "    </tr>\n",
       "  </tbody>\n",
       "</table>\n",
       "</div>"
      ],
      "text/plain": [
       "             tweet_id                                          jpg_url  \\\n",
       "0  666020888022790149  https://pbs.twimg.com/media/CT4udn0WwAA0aMy.jpg   \n",
       "1  666029285002620928  https://pbs.twimg.com/media/CT42GRgUYAA5iDo.jpg   \n",
       "\n",
       "   img_num                      p1   p1_conf  p1_dog                  p2  \\\n",
       "0        1  Welsh_springer_spaniel  0.465074    True              collie   \n",
       "1        1                 redbone  0.506826    True  miniature_pinscher   \n",
       "\n",
       "    p2_conf  p2_dog                   p3   p3_conf  p3_dog  \n",
       "0  0.156665    True    Shetland_sheepdog  0.061428    True  \n",
       "1  0.074192    True  Rhodesian_ridgeback  0.072010    True  "
      ]
     },
     "execution_count": 3,
     "metadata": {},
     "output_type": "execute_result"
    }
   ],
   "source": [
    "# Gathering Image Predictions for Dog Breed - Available online\n",
    "import requests\n",
    "import os\n",
    "\n",
    "# Avoid redownloading if file already saved locally\n",
    "if 'image_predictions.txt' in os.listdir():\n",
    "    pass\n",
    "\n",
    "else:\n",
    "    url = 'https://d17h27t6h515a5.cloudfront.net/topher/2017/August/599fd2ad_image-predictions/image-predictions.tsv'\n",
    "\n",
    "    # Accessing file online\n",
    "    r = requests.get(url)\n",
    "\n",
    "    # Saving content locally\n",
    "    with open('image_predictions.txt', 'wb') as fh:\n",
    "        fh.write(r.content)\n",
    "\n",
    "# Reading Dog Breed data\n",
    "df_breed = pd.read_csv('image_predictions.txt', sep='\\t')\n",
    "\n",
    "df_breed.head(2)"
   ]
  },
  {
   "cell_type": "code",
   "execution_count": 4,
   "metadata": {},
   "outputs": [],
   "source": [
    "# Gathering data from Twitter API\n",
    "import tweepy\n",
    "from twitter_secret_credentials import Twitter_API_Authenticate # personal script\n",
    "\n",
    "# Authenticating connection to Twitter API\n",
    "api = Twitter_API_Authenticate() # wait_on_rate_limit=True, wait_on_rate_limit_notify=True"
   ]
  },
  {
   "cell_type": "code",
   "execution_count": 5,
   "metadata": {},
   "outputs": [
    {
     "name": "stdout",
     "output_type": "stream",
     "text": [
      "JSON data has already been downloaded.\n"
     ]
    }
   ],
   "source": [
    "# Retrieve data from Twitter ID (JSON format)\n",
    "import json\n",
    "from tqdm import tqdm_notebook as progressbar\n",
    "\n",
    "# Avoid redownloading if file already saved locally\n",
    "if 'tweet_json.txt' in os.listdir():\n",
    "    print('JSON data has already been downloaded.')\n",
    "    pass\n",
    "\n",
    "else:\n",
    "    # Retrieve data from Twitter API and save locally\n",
    "    fails = []\n",
    "    count = 0\n",
    "    with open('tweet_json.txt', 'w') as file:\n",
    "        for tweet_id in progressbar(df_archive.tweet_id[:]):\n",
    "            count += 1\n",
    "            try:\n",
    "                tweet = api.get_status(tweet_id, tweet_mode='extended')\n",
    "                json.dump(tweet._json, file)\n",
    "                file.write('\\n') # important to separate each tweet  \n",
    "\n",
    "            except:\n",
    "                fails.append(tweet_id)\n",
    "\n",
    "    fail_percentage = len(fails)/count\n",
    "    print(f'Successfully read: {(1 - fail_percentage):.0%}') # 19 tweets could not be read | 25 minutes"
   ]
  },
  {
   "cell_type": "code",
   "execution_count": 6,
   "metadata": {
    "scrolled": false
   },
   "outputs": [
    {
     "name": "stdout",
     "output_type": "stream",
     "text": [
      "Data already parsed and saved.\n"
     ]
    },
    {
     "data": {
      "text/html": [
       "<div>\n",
       "<style scoped>\n",
       "    .dataframe tbody tr th:only-of-type {\n",
       "        vertical-align: middle;\n",
       "    }\n",
       "\n",
       "    .dataframe tbody tr th {\n",
       "        vertical-align: top;\n",
       "    }\n",
       "\n",
       "    .dataframe thead th {\n",
       "        text-align: right;\n",
       "    }\n",
       "</style>\n",
       "<table border=\"1\" class=\"dataframe\">\n",
       "  <thead>\n",
       "    <tr style=\"text-align: right;\">\n",
       "      <th></th>\n",
       "      <th>tweet_id</th>\n",
       "      <th>created</th>\n",
       "      <th>retweet</th>\n",
       "      <th>favorite</th>\n",
       "      <th>text</th>\n",
       "      <th>year</th>\n",
       "      <th>month</th>\n",
       "      <th>weekday</th>\n",
       "      <th>hour</th>\n",
       "    </tr>\n",
       "  </thead>\n",
       "  <tbody>\n",
       "    <tr>\n",
       "      <th>0</th>\n",
       "      <td>892420643555336193</td>\n",
       "      <td>2017-08-01 16:23:56+00:00</td>\n",
       "      <td>8197</td>\n",
       "      <td>37569</td>\n",
       "      <td>This is Phineas. He's a mystical boy. Only eve...</td>\n",
       "      <td>2017</td>\n",
       "      <td>8</td>\n",
       "      <td>Tuesday</td>\n",
       "      <td>16</td>\n",
       "    </tr>\n",
       "    <tr>\n",
       "      <th>1</th>\n",
       "      <td>892177421306343426</td>\n",
       "      <td>2017-08-01 00:17:27+00:00</td>\n",
       "      <td>6060</td>\n",
       "      <td>32304</td>\n",
       "      <td>This is Tilly. She's just checking pup on you....</td>\n",
       "      <td>2017</td>\n",
       "      <td>8</td>\n",
       "      <td>Tuesday</td>\n",
       "      <td>0</td>\n",
       "    </tr>\n",
       "  </tbody>\n",
       "</table>\n",
       "</div>"
      ],
      "text/plain": [
       "             tweet_id                    created  retweet  favorite  \\\n",
       "0  892420643555336193  2017-08-01 16:23:56+00:00     8197     37569   \n",
       "1  892177421306343426  2017-08-01 00:17:27+00:00     6060     32304   \n",
       "\n",
       "                                                text  year  month  weekday  \\\n",
       "0  This is Phineas. He's a mystical boy. Only eve...  2017      8  Tuesday   \n",
       "1  This is Tilly. She's just checking pup on you....  2017      8  Tuesday   \n",
       "\n",
       "   hour  \n",
       "0    16  \n",
       "1     0  "
      ]
     },
     "execution_count": 6,
     "metadata": {},
     "output_type": "execute_result"
    }
   ],
   "source": [
    "# Actually working with the JSON data extracted\n",
    "\n",
    "# Avoid duplicating work if data already parsed and saved locally\n",
    "if 'tweet_parsed_data.csv' in os.listdir():\n",
    "    print('Data already parsed and saved.')\n",
    "    df_tweet = pd.read_csv('tweet_parsed_data.csv')\n",
    "\n",
    "else:\n",
    "    with open('tweet_json.txt', 'r') as file:\n",
    "        tweet_jsons = file.readlines()\n",
    "\n",
    "    # Iterating over each individual tweet\n",
    "    tweet_data = list()\n",
    "\n",
    "    for tweet in tweet_jsons:\n",
    "        data = dict()\n",
    "\n",
    "        js = json.loads(tweet) # Reading each tweet string as JSON\n",
    "        \n",
    "        # Skip text starting with \"RT\" or \"@\"\n",
    "        if js['full_text'].startswith(('RT', '@')):\n",
    "            continue\n",
    "\n",
    "    #         print(json.dumps(js, indent=4)) # Pretty printing JSON\n",
    "        data['tweet_id'] = js['id_str']\n",
    "        data['created'] = js['created_at']\n",
    "        data['retweet'] = js['retweet_count']\n",
    "        data['favorite'] = js['favorite_count']\n",
    "        data['text'] = js['full_text']\n",
    "\n",
    "        tweet_data.append(data)\n",
    "\n",
    "    # Reading data into Dataframe\n",
    "    df_tweet = pd.DataFrame(tweet_data, columns=data.keys())\n",
    "\n",
    "### Using data already available via twitter_archive_enhanced\n",
    "#     # Extract dog's name\n",
    "#     df_tweet['name'] = df_tweet.text.str.extract(' ([A-Z][a-z]*)')\n",
    "\n",
    "### Using data already available via twitter_archive_enhanced  \n",
    "    # Extract rating\n",
    "#     df_tweet['rate'] = df_tweet.text.str.extract('([0-9]*)/[0-9]{2}')\n",
    "\n",
    "    # Transforming df_tweet.created as Datetime\n",
    "    df_tweet.created = pd.to_datetime(df_tweet.created)\n",
    "\n",
    "    # Extract datetime from Created feature\n",
    "    df_tweet['year'] = df_tweet.created.dt.year\n",
    "    df_tweet['month'] = df_tweet.created.dt.month\n",
    "    df_tweet['weekday'] = df_tweet.created.dt.day_name()\n",
    "    df_tweet['hour'] = df_tweet.created.dt.hour\n",
    "\n",
    "    # Saving it locally\n",
    "    df_tweet.to_csv('tweet_parsed_data.csv', index=False)\n",
    "\n",
    "df_tweet.tweet_id = df_tweet.tweet_id.astype(str)\n",
    "df_tweet.head(2)"
   ]
  },
  {
   "cell_type": "markdown",
   "metadata": {},
   "source": [
    "## Data Assessment and Cleaning"
   ]
  },
  {
   "cell_type": "markdown",
   "metadata": {},
   "source": [
    "### 1) Twitter Archived Enhanced Dataset\n",
    "#### Define\n",
    "Tidiness:\n",
    "+ Multiple stage categories (puppo, fluffer etc.) in separate columns -> should be melted into a single Category variable\n",
    "\n",
    "Quality:\n",
    "+ tweet_id stored as integer -> should be as string\n",
    "+ Many columns filled with missing values or useless data -> remove 7 columns: ['in_reply_to_status_id', 'in_reply_to_user_id', 'source', 'retweeted_status_id', retweeted_status_user_id', retweeted_status_timestamp', 'expanded_urls']\n",
    "+ Replace 'None' entries with `np.NaN`\n",
    "+ Store `rate` as integer\n",
    "+ Remove `rate` entries > 50 (odd entries or jokes)\n",
    "+ Missing values in Name column (there is nothing we can do. Some tweets do not have the dog's name)"
   ]
  },
  {
   "cell_type": "code",
   "execution_count": 7,
   "metadata": {},
   "outputs": [
    {
     "data": {
      "text/plain": [
       "0"
      ]
     },
     "execution_count": 7,
     "metadata": {},
     "output_type": "execute_result"
    }
   ],
   "source": [
    "# Checking for duplicates\n",
    "df_archive.duplicated().sum()"
   ]
  },
  {
   "cell_type": "code",
   "execution_count": 8,
   "metadata": {},
   "outputs": [
    {
     "name": "stdout",
     "output_type": "stream",
     "text": [
      "<class 'pandas.core.frame.DataFrame'>\n",
      "RangeIndex: 2356 entries, 0 to 2355\n",
      "Data columns (total 17 columns):\n",
      "tweet_id                      2356 non-null int64\n",
      "in_reply_to_status_id         78 non-null float64\n",
      "in_reply_to_user_id           78 non-null float64\n",
      "timestamp                     2356 non-null object\n",
      "source                        2356 non-null object\n",
      "text                          2356 non-null object\n",
      "retweeted_status_id           181 non-null float64\n",
      "retweeted_status_user_id      181 non-null float64\n",
      "retweeted_status_timestamp    181 non-null object\n",
      "expanded_urls                 2297 non-null object\n",
      "rating_numerator              2356 non-null int64\n",
      "rating_denominator            2356 non-null int64\n",
      "name                          2356 non-null object\n",
      "doggo                         2356 non-null object\n",
      "floofer                       2356 non-null object\n",
      "pupper                        2356 non-null object\n",
      "puppo                         2356 non-null object\n",
      "dtypes: float64(4), int64(3), object(10)\n",
      "memory usage: 313.0+ KB\n"
     ]
    }
   ],
   "source": [
    "# Checking datatype and missing data\n",
    "df_archive.info()"
   ]
  },
  {
   "cell_type": "markdown",
   "metadata": {},
   "source": [
    "#### Code"
   ]
  },
  {
   "cell_type": "code",
   "execution_count": 9,
   "metadata": {
    "scrolled": true
   },
   "outputs": [],
   "source": [
    "# Tidy: grouping many columns into a single one\n",
    "# Obs: pd.melt did not accomplish what I wanted\n",
    "\n",
    "# Creating copy before cleaning\n",
    "\n",
    "df_archive_clean = df_archive.copy()\n",
    "df_archive_clean['category'] = np.where(df_archive_clean.doggo != 'None', 'doggo',\n",
    "                            np.where(df_archive.floofer != 'None', 'floofer',\n",
    "                            np.where(df_archive.pupper != 'None', 'puper',\n",
    "                            np.where(df_archive.puppo != 'None', 'puppo', np.NaN))))\n",
    "\n",
    "# Quality: Dropping irrelavant or columns already available in other dataset\n",
    "df_archive_clean.drop(columns=['in_reply_to_status_id', 'in_reply_to_user_id', 'timestamp',\n",
    "       'source', 'text', 'retweeted_status_id', 'retweeted_status_user_id',\n",
    "       'retweeted_status_timestamp', 'expanded_urls', 'rating_denominator', 'doggo', 'floofer', 'pupper', 'puppo'], inplace=True)\n",
    "\n",
    "# Quality: Store ID as string for later joining reference\n",
    "df_archive_clean.tweet_id = df_archive_clean.tweet_id.astype(str)\n",
    "\n",
    "# Quality: Replace 'None' entries with NaN\n",
    "df_archive_clean.replace('None', np.NaN, inplace=True)\n",
    "\n",
    "# Remove odd ratings\n",
    "df_archive_clean = df_archive_clean.query('rating_numerator < 50')\n",
    "\n",
    "# Store rate as integer\n",
    "df_archive_clean.rating_numerator = df_archive_clean.rating_numerator.astype(int)"
   ]
  },
  {
   "cell_type": "markdown",
   "metadata": {},
   "source": [
    "#### Test"
   ]
  },
  {
   "cell_type": "code",
   "execution_count": 10,
   "metadata": {},
   "outputs": [],
   "source": [
    "# Test if rate is integer\n",
    "assert df_archive_clean.rating_numerator.dtype.kind == 'i'"
   ]
  },
  {
   "cell_type": "code",
   "execution_count": 11,
   "metadata": {},
   "outputs": [],
   "source": [
    "# Test if only rates < 50\n",
    "assert (df_archive_clean.rating_numerator < 50).all()"
   ]
  },
  {
   "cell_type": "code",
   "execution_count": 12,
   "metadata": {},
   "outputs": [
    {
     "data": {
      "text/html": [
       "<div>\n",
       "<style scoped>\n",
       "    .dataframe tbody tr th:only-of-type {\n",
       "        vertical-align: middle;\n",
       "    }\n",
       "\n",
       "    .dataframe tbody tr th {\n",
       "        vertical-align: top;\n",
       "    }\n",
       "\n",
       "    .dataframe thead th {\n",
       "        text-align: right;\n",
       "    }\n",
       "</style>\n",
       "<table border=\"1\" class=\"dataframe\">\n",
       "  <thead>\n",
       "    <tr style=\"text-align: right;\">\n",
       "      <th></th>\n",
       "      <th>tweet_id</th>\n",
       "      <th>rating_numerator</th>\n",
       "      <th>name</th>\n",
       "      <th>category</th>\n",
       "    </tr>\n",
       "  </thead>\n",
       "  <tbody>\n",
       "    <tr>\n",
       "      <th>8</th>\n",
       "      <td>890609185150312448</td>\n",
       "      <td>13</td>\n",
       "      <td>Zoey</td>\n",
       "      <td>nan</td>\n",
       "    </tr>\n",
       "    <tr>\n",
       "      <th>9</th>\n",
       "      <td>890240255349198849</td>\n",
       "      <td>14</td>\n",
       "      <td>Cassie</td>\n",
       "      <td>doggo</td>\n",
       "    </tr>\n",
       "    <tr>\n",
       "      <th>10</th>\n",
       "      <td>890006608113172480</td>\n",
       "      <td>13</td>\n",
       "      <td>Koda</td>\n",
       "      <td>nan</td>\n",
       "    </tr>\n",
       "    <tr>\n",
       "      <th>11</th>\n",
       "      <td>889880896479866881</td>\n",
       "      <td>13</td>\n",
       "      <td>Bruno</td>\n",
       "      <td>nan</td>\n",
       "    </tr>\n",
       "    <tr>\n",
       "      <th>12</th>\n",
       "      <td>889665388333682689</td>\n",
       "      <td>13</td>\n",
       "      <td>NaN</td>\n",
       "      <td>puppo</td>\n",
       "    </tr>\n",
       "    <tr>\n",
       "      <th>13</th>\n",
       "      <td>889638837579907072</td>\n",
       "      <td>12</td>\n",
       "      <td>Ted</td>\n",
       "      <td>nan</td>\n",
       "    </tr>\n",
       "  </tbody>\n",
       "</table>\n",
       "</div>"
      ],
      "text/plain": [
       "              tweet_id  rating_numerator    name category\n",
       "8   890609185150312448                13    Zoey      nan\n",
       "9   890240255349198849                14  Cassie    doggo\n",
       "10  890006608113172480                13    Koda      nan\n",
       "11  889880896479866881                13   Bruno      nan\n",
       "12  889665388333682689                13     NaN    puppo\n",
       "13  889638837579907072                12     Ted      nan"
      ]
     },
     "execution_count": 12,
     "metadata": {},
     "output_type": "execute_result"
    }
   ],
   "source": [
    "df_archive_clean.loc[8:13]"
   ]
  },
  {
   "cell_type": "markdown",
   "metadata": {},
   "source": [
    "### 2) Dog Breed\n",
    "#### Define\n",
    "Tidiness: N/A\n",
    "\n",
    "Quality:\n",
    "+ Remove irrelevant columns -> ['p2', 'p2_conf', 'p2_dog', 'p3', 'p3_conf', 'p3_dog']\n",
    "+ Remove entries with Confidence Score <= 59% -> horribly inaccurate dog breed\n",
    "+ Remove entries Not Dog -> Dog = False\n",
    "+ Store tweet_id as string"
   ]
  },
  {
   "cell_type": "code",
   "execution_count": 13,
   "metadata": {},
   "outputs": [
    {
     "data": {
      "text/plain": [
       "0"
      ]
     },
     "execution_count": 13,
     "metadata": {},
     "output_type": "execute_result"
    }
   ],
   "source": [
    "# Checking for duplicates\n",
    "df_breed.duplicated().sum()"
   ]
  },
  {
   "cell_type": "code",
   "execution_count": 14,
   "metadata": {},
   "outputs": [
    {
     "name": "stdout",
     "output_type": "stream",
     "text": [
      "<class 'pandas.core.frame.DataFrame'>\n",
      "RangeIndex: 2075 entries, 0 to 2074\n",
      "Data columns (total 12 columns):\n",
      "tweet_id    2075 non-null int64\n",
      "jpg_url     2075 non-null object\n",
      "img_num     2075 non-null int64\n",
      "p1          2075 non-null object\n",
      "p1_conf     2075 non-null float64\n",
      "p1_dog      2075 non-null bool\n",
      "p2          2075 non-null object\n",
      "p2_conf     2075 non-null float64\n",
      "p2_dog      2075 non-null bool\n",
      "p3          2075 non-null object\n",
      "p3_conf     2075 non-null float64\n",
      "p3_dog      2075 non-null bool\n",
      "dtypes: bool(3), float64(3), int64(2), object(4)\n",
      "memory usage: 152.1+ KB\n"
     ]
    }
   ],
   "source": [
    "# Checking datatype and missing data\n",
    "df_breed.info()"
   ]
  },
  {
   "cell_type": "code",
   "execution_count": 15,
   "metadata": {},
   "outputs": [
    {
     "data": {
      "text/plain": [
       "810"
      ]
     },
     "execution_count": 15,
     "metadata": {},
     "output_type": "execute_result"
    }
   ],
   "source": [
    "# Creating copy before cleaning\n",
    "df_breed_clean = df_breed.copy()\n",
    "\n",
    "# Removing irrelevant columns\n",
    "df_breed_clean.drop(columns=['p2', 'p2_conf', 'p2_dog', 'p3', 'p3_conf', 'p3_dog'], inplace=True)\n",
    "\n",
    "# Remove observations with confidence score lower than 59% -> incorrect dog breed\n",
    "df_breed_clean = df_breed_clean.query('p1_conf >= 0.59')\n",
    "\n",
    "# Remove observations not containg a dog\n",
    "df_breed_clean = df_breed_clean.query('p1_dog == True')\n",
    "\n",
    "# Store tweet_id as string\n",
    "df_breed_clean.tweet_id = df_breed_clean.tweet_id.astype(str)\n",
    "\n",
    "len(df_breed_clean) # Total of 810 entries with \"Good Accurate\" data"
   ]
  },
  {
   "cell_type": "markdown",
   "metadata": {},
   "source": [
    "#### Test"
   ]
  },
  {
   "cell_type": "code",
   "execution_count": 16,
   "metadata": {},
   "outputs": [],
   "source": [
    "# Test for Confidence Score\n",
    "assert (df_breed_clean.p1_conf >= 0.59).all()"
   ]
  },
  {
   "cell_type": "code",
   "execution_count": 17,
   "metadata": {},
   "outputs": [],
   "source": [
    "# Test for is Dog\n",
    "assert (df_breed_clean.p1_dog == True).all()"
   ]
  },
  {
   "cell_type": "code",
   "execution_count": 18,
   "metadata": {},
   "outputs": [],
   "source": [
    "# Test if tweet_id is string (object in Pandas)\n",
    "assert df_breed_clean.tweet_id.dtype.kind == 'O'"
   ]
  },
  {
   "cell_type": "code",
   "execution_count": 19,
   "metadata": {
    "scrolled": true
   },
   "outputs": [
    {
     "data": {
      "text/html": [
       "<div>\n",
       "<style scoped>\n",
       "    .dataframe tbody tr th:only-of-type {\n",
       "        vertical-align: middle;\n",
       "    }\n",
       "\n",
       "    .dataframe tbody tr th {\n",
       "        vertical-align: top;\n",
       "    }\n",
       "\n",
       "    .dataframe thead th {\n",
       "        text-align: right;\n",
       "    }\n",
       "</style>\n",
       "<table border=\"1\" class=\"dataframe\">\n",
       "  <thead>\n",
       "    <tr style=\"text-align: right;\">\n",
       "      <th></th>\n",
       "      <th>tweet_id</th>\n",
       "      <th>jpg_url</th>\n",
       "      <th>img_num</th>\n",
       "      <th>p1</th>\n",
       "      <th>p1_conf</th>\n",
       "      <th>p1_dog</th>\n",
       "    </tr>\n",
       "  </thead>\n",
       "  <tbody>\n",
       "    <tr>\n",
       "      <th>2</th>\n",
       "      <td>666033412701032449</td>\n",
       "      <td>https://pbs.twimg.com/media/CT4521TWwAEvMyu.jpg</td>\n",
       "      <td>1</td>\n",
       "      <td>German_shepherd</td>\n",
       "      <td>0.596461</td>\n",
       "      <td>True</td>\n",
       "    </tr>\n",
       "    <tr>\n",
       "      <th>5</th>\n",
       "      <td>666050758794694657</td>\n",
       "      <td>https://pbs.twimg.com/media/CT5Jof1WUAEuVxN.jpg</td>\n",
       "      <td>1</td>\n",
       "      <td>Bernese_mountain_dog</td>\n",
       "      <td>0.651137</td>\n",
       "      <td>True</td>\n",
       "    </tr>\n",
       "    <tr>\n",
       "      <th>7</th>\n",
       "      <td>666055525042405380</td>\n",
       "      <td>https://pbs.twimg.com/media/CT5N9tpXIAAifs1.jpg</td>\n",
       "      <td>1</td>\n",
       "      <td>chow</td>\n",
       "      <td>0.692517</td>\n",
       "      <td>True</td>\n",
       "    </tr>\n",
       "  </tbody>\n",
       "</table>\n",
       "</div>"
      ],
      "text/plain": [
       "             tweet_id                                          jpg_url  \\\n",
       "2  666033412701032449  https://pbs.twimg.com/media/CT4521TWwAEvMyu.jpg   \n",
       "5  666050758794694657  https://pbs.twimg.com/media/CT5Jof1WUAEuVxN.jpg   \n",
       "7  666055525042405380  https://pbs.twimg.com/media/CT5N9tpXIAAifs1.jpg   \n",
       "\n",
       "   img_num                    p1   p1_conf  p1_dog  \n",
       "2        1       German_shepherd  0.596461    True  \n",
       "5        1  Bernese_mountain_dog  0.651137    True  \n",
       "7        1                  chow  0.692517    True  "
      ]
     },
     "execution_count": 19,
     "metadata": {},
     "output_type": "execute_result"
    }
   ],
   "source": [
    "df_breed_clean.head(3)"
   ]
  },
  {
   "cell_type": "markdown",
   "metadata": {},
   "source": [
    "### 3) Scraped Twitter API\n",
    "#### Define\n",
    "Tidiness: N/A\n",
    "\n",
    "Quality:\n",
    "+ Store `tweet_id` as string"
   ]
  },
  {
   "cell_type": "code",
   "execution_count": 20,
   "metadata": {},
   "outputs": [
    {
     "data": {
      "text/plain": [
       "0"
      ]
     },
     "execution_count": 20,
     "metadata": {},
     "output_type": "execute_result"
    }
   ],
   "source": [
    "# Checking duplicates\n",
    "df_tweet.duplicated().sum()"
   ]
  },
  {
   "cell_type": "code",
   "execution_count": 21,
   "metadata": {
    "scrolled": true
   },
   "outputs": [
    {
     "name": "stdout",
     "output_type": "stream",
     "text": [
      "<class 'pandas.core.frame.DataFrame'>\n",
      "RangeIndex: 2146 entries, 0 to 2145\n",
      "Data columns (total 9 columns):\n",
      "tweet_id    2146 non-null object\n",
      "created     2146 non-null object\n",
      "retweet     2146 non-null int64\n",
      "favorite    2146 non-null int64\n",
      "text        2146 non-null object\n",
      "year        2146 non-null int64\n",
      "month       2146 non-null int64\n",
      "weekday     2146 non-null object\n",
      "hour        2146 non-null int64\n",
      "dtypes: int64(5), object(4)\n",
      "memory usage: 151.0+ KB\n"
     ]
    }
   ],
   "source": [
    "# Checking data type and missing data\n",
    "df_tweet.info()"
   ]
  },
  {
   "cell_type": "markdown",
   "metadata": {},
   "source": [
    "#### Code"
   ]
  },
  {
   "cell_type": "code",
   "execution_count": 22,
   "metadata": {},
   "outputs": [],
   "source": [
    "# Creating copy before cleaning\n",
    "df_tweet_clean = df_tweet.copy()\n",
    "\n",
    "# Store tweet_id as string\n",
    "df_tweet_clean.tweet_id = df_tweet_clean.tweet_id.astype(str)"
   ]
  },
  {
   "cell_type": "markdown",
   "metadata": {},
   "source": [
    "#### Test"
   ]
  },
  {
   "cell_type": "code",
   "execution_count": 23,
   "metadata": {},
   "outputs": [],
   "source": [
    "# Test if tweet_id is string (object in Pandas)\n",
    "assert df_tweet_clean.tweet_id.dtype.kind == 'O'"
   ]
  },
  {
   "cell_type": "code",
   "execution_count": 24,
   "metadata": {},
   "outputs": [
    {
     "data": {
      "text/html": [
       "<div>\n",
       "<style scoped>\n",
       "    .dataframe tbody tr th:only-of-type {\n",
       "        vertical-align: middle;\n",
       "    }\n",
       "\n",
       "    .dataframe tbody tr th {\n",
       "        vertical-align: top;\n",
       "    }\n",
       "\n",
       "    .dataframe thead th {\n",
       "        text-align: right;\n",
       "    }\n",
       "</style>\n",
       "<table border=\"1\" class=\"dataframe\">\n",
       "  <thead>\n",
       "    <tr style=\"text-align: right;\">\n",
       "      <th></th>\n",
       "      <th>tweet_id</th>\n",
       "      <th>created</th>\n",
       "      <th>retweet</th>\n",
       "      <th>favorite</th>\n",
       "      <th>text</th>\n",
       "      <th>year</th>\n",
       "      <th>month</th>\n",
       "      <th>weekday</th>\n",
       "      <th>hour</th>\n",
       "    </tr>\n",
       "  </thead>\n",
       "  <tbody>\n",
       "    <tr>\n",
       "      <th>0</th>\n",
       "      <td>892420643555336193</td>\n",
       "      <td>2017-08-01 16:23:56+00:00</td>\n",
       "      <td>8197</td>\n",
       "      <td>37569</td>\n",
       "      <td>This is Phineas. He's a mystical boy. Only eve...</td>\n",
       "      <td>2017</td>\n",
       "      <td>8</td>\n",
       "      <td>Tuesday</td>\n",
       "      <td>16</td>\n",
       "    </tr>\n",
       "    <tr>\n",
       "      <th>1</th>\n",
       "      <td>892177421306343426</td>\n",
       "      <td>2017-08-01 00:17:27+00:00</td>\n",
       "      <td>6060</td>\n",
       "      <td>32304</td>\n",
       "      <td>This is Tilly. She's just checking pup on you....</td>\n",
       "      <td>2017</td>\n",
       "      <td>8</td>\n",
       "      <td>Tuesday</td>\n",
       "      <td>0</td>\n",
       "    </tr>\n",
       "  </tbody>\n",
       "</table>\n",
       "</div>"
      ],
      "text/plain": [
       "             tweet_id                    created  retweet  favorite  \\\n",
       "0  892420643555336193  2017-08-01 16:23:56+00:00     8197     37569   \n",
       "1  892177421306343426  2017-08-01 00:17:27+00:00     6060     32304   \n",
       "\n",
       "                                                text  year  month  weekday  \\\n",
       "0  This is Phineas. He's a mystical boy. Only eve...  2017      8  Tuesday   \n",
       "1  This is Tilly. She's just checking pup on you....  2017      8  Tuesday   \n",
       "\n",
       "   hour  \n",
       "0    16  \n",
       "1     0  "
      ]
     },
     "execution_count": 24,
     "metadata": {},
     "output_type": "execute_result"
    }
   ],
   "source": [
    "df_tweet_clean.head(2)"
   ]
  },
  {
   "cell_type": "markdown",
   "metadata": {},
   "source": [
    "### Overall Tidiness Evaluation\n",
    "A dataset is defined as tidy if:\n",
    "+ Each observation forms a row\n",
    "+ Each variable forms a column and contains values\n",
    "+ Each type of observational unit forms a table\n",
    "\n",
    "In this case, I understand the existing 3 datasets should be rearranged into 2 tables:\n",
    "1. **Tweet data**: tweet_id, creation time, retweet count, favorite count, text, rating\n",
    "2. **Dog data**: tweet_id, breed, name, category, jpg_url"
   ]
  },
  {
   "cell_type": "code",
   "execution_count": 25,
   "metadata": {},
   "outputs": [],
   "source": [
    "# Creating Table Tweet Data\n",
    "tweet_data = df_tweet_clean\n",
    "\n",
    "### Save final dataset as Final Tweet Data.csv\n",
    "tweet_data.to_csv('Final Tweet Data.csv', index=False)"
   ]
  },
  {
   "cell_type": "code",
   "execution_count": 26,
   "metadata": {},
   "outputs": [
    {
     "data": {
      "text/plain": [
       "nan        1957\n",
       "puper       245\n",
       "doggo        97\n",
       "puppo        29\n",
       "floofer       9\n",
       "Name: category, dtype: int64"
      ]
     },
     "execution_count": 26,
     "metadata": {},
     "output_type": "execute_result"
    }
   ],
   "source": [
    "# Data regarding dog stage\n",
    "df_archive_clean.category.value_counts()"
   ]
  },
  {
   "cell_type": "markdown",
   "metadata": {},
   "source": [
    "Since there is not enough data for this variable (\"Dog Stage\"), I will remove it from the analysis."
   ]
  },
  {
   "cell_type": "code",
   "execution_count": 27,
   "metadata": {},
   "outputs": [],
   "source": [
    "## Creating Table Dog Data\n",
    "\n",
    "# Merging 2 datasets as a Left Join, keeping all data from Left, even if not present in right\n",
    "dog_data = pd.merge(df_archive_clean, df_breed_clean, on='tweet_id', how='inner')\n",
    "\n",
    "# Removing useless columns\n",
    "dog_data.drop(columns=['img_num', 'p1_dog', 'category'], inplace=True)\n",
    "\n",
    "# Renaming columns to have more meaningful name\n",
    "dog_data.rename(columns={'p1': 'breed', 'p1_conf': 'confidence_score'}, inplace=True)\n",
    "\n",
    "# Rounding confidence score to 2 decimals\n",
    "dog_data.confidence_score = round(dog_data.confidence_score, 2)\n",
    "\n",
    "### Save final dataset as Final Dog Data.csv\n",
    "dog_data.to_csv('Final Dog Data.csv', index=False)"
   ]
  },
  {
   "cell_type": "markdown",
   "metadata": {},
   "source": [
    "## Final Combined and Cleaned Dataset - Master"
   ]
  },
  {
   "cell_type": "code",
   "execution_count": 28,
   "metadata": {},
   "outputs": [],
   "source": [
    "# Creating Master file keeping only observations with all data available -> 774 entries\n",
    "twitter_archive_master = pd.merge(tweet_data, dog_data, on='tweet_id', how='inner')\n",
    "twitter_archive_master.to_csv('twitter_archive_master.csv', index=False)"
   ]
  },
  {
   "cell_type": "code",
   "execution_count": 29,
   "metadata": {},
   "outputs": [
    {
     "data": {
      "text/plain": [
       "774"
      ]
     },
     "execution_count": 29,
     "metadata": {},
     "output_type": "execute_result"
    }
   ],
   "source": [
    "len(twitter_archive_master)"
   ]
  },
  {
   "cell_type": "markdown",
   "metadata": {},
   "source": [
    "<hr>\n",
    "\n",
    "# Data Analysis\n",
    "After Wrangling the data, it is finally time to analyze the final cleaned dataset to extract insights.\n",
    "\n",
    "The research questions driving this investigations are as following:\n",
    "1. What are the top 5 most common dog breeds?\n",
    "1. What are the top 5 most liked dog breeds?\n",
    "1. What are the top 5 most popular/common dog names?\n",
    "1. Is there a specific time associated with higher creation of tweets/ratings?"
   ]
  },
  {
   "cell_type": "code",
   "execution_count": 30,
   "metadata": {},
   "outputs": [],
   "source": [
    "%matplotlib inline\n",
    "import matplotlib.pyplot as plt\n",
    "import seaborn as sns"
   ]
  },
  {
   "cell_type": "markdown",
   "metadata": {},
   "source": [
    "## Q1) Most Common Dog Breeds"
   ]
  },
  {
   "cell_type": "code",
   "execution_count": 31,
   "metadata": {},
   "outputs": [],
   "source": [
    "# Easier to refer to dataframe\n",
    "df = twitter_archive_master"
   ]
  },
  {
   "cell_type": "code",
   "execution_count": 32,
   "metadata": {},
   "outputs": [],
   "source": [
    "top5_common_breeds = pd.DataFrame()\n",
    "top5_common_breeds['breeds'] = df.breed.value_counts()[:5]\n",
    "top5_common_breeds['percentage'] = round(top5_common_breeds/len(df), 2)"
   ]
  },
  {
   "cell_type": "code",
   "execution_count": 46,
   "metadata": {},
   "outputs": [
    {
     "name": "stdout",
     "output_type": "stream",
     "text": [
      "The Top 5 most common dog breeds represent 39% of the dataset.\n"
     ]
    },
    {
     "data": {
      "text/html": [
       "<div>\n",
       "<style scoped>\n",
       "    .dataframe tbody tr th:only-of-type {\n",
       "        vertical-align: middle;\n",
       "    }\n",
       "\n",
       "    .dataframe tbody tr th {\n",
       "        vertical-align: top;\n",
       "    }\n",
       "\n",
       "    .dataframe thead th {\n",
       "        text-align: right;\n",
       "    }\n",
       "</style>\n",
       "<table border=\"1\" class=\"dataframe\">\n",
       "  <thead>\n",
       "    <tr style=\"text-align: right;\">\n",
       "      <th></th>\n",
       "      <th>breeds</th>\n",
       "      <th>percentage</th>\n",
       "    </tr>\n",
       "  </thead>\n",
       "  <tbody>\n",
       "    <tr>\n",
       "      <th>golden_retriever</th>\n",
       "      <td>105</td>\n",
       "      <td>0.14</td>\n",
       "    </tr>\n",
       "    <tr>\n",
       "      <th>Pembroke</th>\n",
       "      <td>59</td>\n",
       "      <td>0.08</td>\n",
       "    </tr>\n",
       "    <tr>\n",
       "      <th>Labrador_retriever</th>\n",
       "      <td>54</td>\n",
       "      <td>0.07</td>\n",
       "    </tr>\n",
       "    <tr>\n",
       "      <th>Chihuahua</th>\n",
       "      <td>40</td>\n",
       "      <td>0.05</td>\n",
       "    </tr>\n",
       "    <tr>\n",
       "      <th>pug</th>\n",
       "      <td>38</td>\n",
       "      <td>0.05</td>\n",
       "    </tr>\n",
       "  </tbody>\n",
       "</table>\n",
       "</div>"
      ],
      "text/plain": [
       "                    breeds  percentage\n",
       "golden_retriever       105        0.14\n",
       "Pembroke                59        0.08\n",
       "Labrador_retriever      54        0.07\n",
       "Chihuahua               40        0.05\n",
       "pug                     38        0.05"
      ]
     },
     "execution_count": 46,
     "metadata": {},
     "output_type": "execute_result"
    }
   ],
   "source": [
    "top5_sum = top5_common_breeds.percentage.sum()\n",
    "print(f'The Top 5 most common dog breeds represent {top5_sum:.0%} of the dataset.')\n",
    "top5_common_breeds"
   ]
  },
  {
   "cell_type": "markdown",
   "metadata": {},
   "source": [
    "The Top 5 most common breeds represent almost 40% of the dataset, having the beatiful Golden Retriever as the undisputed first place with 105 tweets submitted/rated!"
   ]
  },
  {
   "cell_type": "markdown",
   "metadata": {},
   "source": [
    "## Q2) Most Liked Dog Breeds\n",
    "Instead of simply looking at the number of times a specific breed has been rated, this time we investigate the breeds most retweeted and favorited:"
   ]
  },
  {
   "cell_type": "code",
   "execution_count": 34,
   "metadata": {},
   "outputs": [],
   "source": [
    "df['popularity'] = df.retweet + df.favorite"
   ]
  },
  {
   "cell_type": "code",
   "execution_count": 47,
   "metadata": {},
   "outputs": [
    {
     "data": {
      "text/html": [
       "<div>\n",
       "<style scoped>\n",
       "    .dataframe tbody tr th:only-of-type {\n",
       "        vertical-align: middle;\n",
       "    }\n",
       "\n",
       "    .dataframe tbody tr th {\n",
       "        vertical-align: top;\n",
       "    }\n",
       "\n",
       "    .dataframe thead tr th {\n",
       "        text-align: left;\n",
       "    }\n",
       "\n",
       "    .dataframe thead tr:last-of-type th {\n",
       "        text-align: right;\n",
       "    }\n",
       "</style>\n",
       "<table border=\"1\" class=\"dataframe\">\n",
       "  <thead>\n",
       "    <tr>\n",
       "      <th></th>\n",
       "      <th>median</th>\n",
       "      <th>count</th>\n",
       "    </tr>\n",
       "    <tr>\n",
       "      <th></th>\n",
       "      <th>popularity</th>\n",
       "      <th>popularity</th>\n",
       "    </tr>\n",
       "    <tr>\n",
       "      <th>breed</th>\n",
       "      <th></th>\n",
       "      <th></th>\n",
       "    </tr>\n",
       "  </thead>\n",
       "  <tbody>\n",
       "    <tr>\n",
       "      <th>black-and-tan_coonhound</th>\n",
       "      <td>39941.0</td>\n",
       "      <td>1</td>\n",
       "    </tr>\n",
       "    <tr>\n",
       "      <th>Newfoundland</th>\n",
       "      <td>27450.0</td>\n",
       "      <td>1</td>\n",
       "    </tr>\n",
       "    <tr>\n",
       "      <th>Greater_Swiss_Mountain_dog</th>\n",
       "      <td>25508.0</td>\n",
       "      <td>1</td>\n",
       "    </tr>\n",
       "    <tr>\n",
       "      <th>Afghan_hound</th>\n",
       "      <td>21276.0</td>\n",
       "      <td>1</td>\n",
       "    </tr>\n",
       "    <tr>\n",
       "      <th>Cardigan</th>\n",
       "      <td>20917.0</td>\n",
       "      <td>9</td>\n",
       "    </tr>\n",
       "    <tr>\n",
       "      <th>Leonberg</th>\n",
       "      <td>19562.0</td>\n",
       "      <td>2</td>\n",
       "    </tr>\n",
       "    <tr>\n",
       "      <th>bloodhound</th>\n",
       "      <td>19391.0</td>\n",
       "      <td>2</td>\n",
       "    </tr>\n",
       "    <tr>\n",
       "      <th>Great_Pyrenees</th>\n",
       "      <td>16990.0</td>\n",
       "      <td>8</td>\n",
       "    </tr>\n",
       "    <tr>\n",
       "      <th>Border_terrier</th>\n",
       "      <td>16594.0</td>\n",
       "      <td>2</td>\n",
       "    </tr>\n",
       "    <tr>\n",
       "      <th>Staffordshire_bullterrier</th>\n",
       "      <td>16287.0</td>\n",
       "      <td>7</td>\n",
       "    </tr>\n",
       "  </tbody>\n",
       "</table>\n",
       "</div>"
      ],
      "text/plain": [
       "                               median      count\n",
       "                           popularity popularity\n",
       "breed                                           \n",
       "black-and-tan_coonhound       39941.0          1\n",
       "Newfoundland                  27450.0          1\n",
       "Greater_Swiss_Mountain_dog    25508.0          1\n",
       "Afghan_hound                  21276.0          1\n",
       "Cardigan                      20917.0          9\n",
       "Leonberg                      19562.0          2\n",
       "bloodhound                    19391.0          2\n",
       "Great_Pyrenees                16990.0          8\n",
       "Border_terrier                16594.0          2\n",
       "Staffordshire_bullterrier     16287.0          7"
      ]
     },
     "execution_count": 47,
     "metadata": {},
     "output_type": "execute_result"
    }
   ],
   "source": [
    "# Grouping by dog breed and sorting by median Popularity\n",
    "top_popular_breeds = df.pivot_table(index='breed', values='popularity', aggfunc=['median','count'])\\\n",
    "    .sort_values(by=('median', 'popularity'), ascending=False).round(0)\n",
    "\n",
    "# Filtering top 10\n",
    "top_popular_breeds.head(10)"
   ]
  },
  {
   "cell_type": "markdown",
   "metadata": {},
   "source": [
    "In this particular case I decided to adopt the *median* instead of the mean, in order to avoid the influence of extreme values (like the swimming labrador retriever tweet that is clearly an outlier based on the number of retweets and favorites).\n",
    "\n",
    "Although I am a big Labrador and Golden retriever fan, this approach seems more accurate to me... and it leads to an ugly truth:\n",
    "> The majority of people love **huge-clumsy-goofy-looking dogs**!  😂\n",
    "\n",
    "Particularly, the Top 4 most liked dog breeds are:\n",
    "1. [Black and Tan Coonhound](https://images.app.goo.gl/9QxpqBYJvsK1W5pJ6)\n",
    "2. [Newfoundland](https://images.app.goo.gl/3QMddcz9Gcffkuxg8)\n",
    "3. [Greater Swiss Mountain Dog](https://images.app.goo.gl/CkjBkwJpMeWdG6GG7)\n",
    "4. [Afghan Hound](https://images.app.goo.gl/W8LuRRESmPzpmHvT7)\n",
    "5. Having a **Small-funny-looking** [Cardigan](https://images.app.goo.gl/dPUK1iKQKkSuXXSL9) in the Fifth Place - well deserved!"
   ]
  },
  {
   "cell_type": "markdown",
   "metadata": {},
   "source": [
    "## Q3) Most Popular Dog Names"
   ]
  },
  {
   "cell_type": "code",
   "execution_count": 36,
   "metadata": {},
   "outputs": [
    {
     "data": {
      "text/plain": [
       "Oliver     7\n",
       "Daisy      5\n",
       "Cooper     5\n",
       "Sadie      4\n",
       "Winston    4\n",
       "Name: name, dtype: int64"
      ]
     },
     "execution_count": 36,
     "metadata": {},
     "output_type": "execute_result"
    }
   ],
   "source": [
    "df.name.value_counts()[1:6]"
   ]
  },
  {
   "cell_type": "markdown",
   "metadata": {},
   "source": [
    "## Q4) Most Typical Tweet Date/Time"
   ]
  },
  {
   "cell_type": "code",
   "execution_count": 37,
   "metadata": {},
   "outputs": [
    {
     "data": {
      "text/html": [
       "<div>\n",
       "<style scoped>\n",
       "    .dataframe tbody tr th:only-of-type {\n",
       "        vertical-align: middle;\n",
       "    }\n",
       "\n",
       "    .dataframe tbody tr th {\n",
       "        vertical-align: top;\n",
       "    }\n",
       "\n",
       "    .dataframe thead th {\n",
       "        text-align: right;\n",
       "    }\n",
       "</style>\n",
       "<table border=\"1\" class=\"dataframe\">\n",
       "  <thead>\n",
       "    <tr style=\"text-align: right;\">\n",
       "      <th></th>\n",
       "      <th>tweet_id</th>\n",
       "      <th>created</th>\n",
       "      <th>retweet</th>\n",
       "      <th>favorite</th>\n",
       "      <th>text</th>\n",
       "      <th>year</th>\n",
       "      <th>month</th>\n",
       "      <th>weekday</th>\n",
       "      <th>hour</th>\n",
       "      <th>rating_numerator</th>\n",
       "      <th>name</th>\n",
       "      <th>jpg_url</th>\n",
       "      <th>breed</th>\n",
       "      <th>confidence_score</th>\n",
       "      <th>popularity</th>\n",
       "    </tr>\n",
       "  </thead>\n",
       "  <tbody>\n",
       "    <tr>\n",
       "      <th>0</th>\n",
       "      <td>891815181378084864</td>\n",
       "      <td>2017-07-31 00:18:03+00:00</td>\n",
       "      <td>4008</td>\n",
       "      <td>24347</td>\n",
       "      <td>This is Archie. He is a rare Norwegian Pouncin...</td>\n",
       "      <td>2017</td>\n",
       "      <td>7</td>\n",
       "      <td>Monday</td>\n",
       "      <td>0</td>\n",
       "      <td>12</td>\n",
       "      <td>Archie</td>\n",
       "      <td>https://pbs.twimg.com/media/DGBdLU1WsAANxJ9.jpg</td>\n",
       "      <td>Chihuahua</td>\n",
       "      <td>0.72</td>\n",
       "      <td>28355</td>\n",
       "    </tr>\n",
       "  </tbody>\n",
       "</table>\n",
       "</div>"
      ],
      "text/plain": [
       "             tweet_id                    created  retweet  favorite  \\\n",
       "0  891815181378084864  2017-07-31 00:18:03+00:00     4008     24347   \n",
       "\n",
       "                                                text  year  month weekday  \\\n",
       "0  This is Archie. He is a rare Norwegian Pouncin...  2017      7  Monday   \n",
       "\n",
       "   hour  rating_numerator    name  \\\n",
       "0     0                12  Archie   \n",
       "\n",
       "                                           jpg_url      breed  \\\n",
       "0  https://pbs.twimg.com/media/DGBdLU1WsAANxJ9.jpg  Chihuahua   \n",
       "\n",
       "   confidence_score  popularity  \n",
       "0              0.72       28355  "
      ]
     },
     "execution_count": 37,
     "metadata": {},
     "output_type": "execute_result"
    }
   ],
   "source": [
    "df.head(1)"
   ]
  },
  {
   "cell_type": "code",
   "execution_count": 38,
   "metadata": {
    "scrolled": true
   },
   "outputs": [
    {
     "name": "stdout",
     "output_type": "stream",
     "text": [
      "Average Posts per Month: 35\n"
     ]
    },
    {
     "data": {
      "image/png": "[encoded data removed]",
      "text/plain": [
       "<matplotlib.figure.Figure at 0x23c6beeaef0>"
      ]
     },
     "metadata": {
      "needs_background": "light"
     },
     "output_type": "display_data"
    }
   ],
   "source": [
    "# Number of Posts per Month\n",
    "month_pop = df.pivot_table(index='year', columns='month', aggfunc='count').hour.mean()\n",
    "month_pop.plot(kind='bar', label='_na')\n",
    "plt.axhline(month_pop.mean(), ls=':', c='r', label='Average')\n",
    "plt.legend()\n",
    "plt.title('Average Number of Posts per Month');\n",
    "\n",
    "print(f'Average Posts per Month: {month_pop.mean():.0f}')"
   ]
  },
  {
   "cell_type": "markdown",
   "metadata": {},
   "source": [
    "Looks like the busiest months are from **November through March**, where the amount of posts is above the average of 35 post per month."
   ]
  },
  {
   "cell_type": "code",
   "execution_count": 39,
   "metadata": {},
   "outputs": [
    {
     "data": {
      "image/png": "[encoded data removed]",
      "text/plain": [
       "<matplotlib.figure.Figure at 0x23c6dfd3dd8>"
      ]
     },
     "metadata": {
      "needs_background": "light"
     },
     "output_type": "display_data"
    }
   ],
   "source": [
    "# Number of Posts per Day of Week\n",
    "hour_pop = df.pivot_table(index=['year', 'month'], columns='weekday', aggfunc='count').hour.mean()\n",
    "\n",
    "day_order = [\"Monday\", \"Tuesday\", \"Wednesday\", \"Thursday\", \"Friday\", \"Saturday\", \"Sunday\"]\n",
    "\n",
    "hour_pop.loc[day_order].plot(kind='bar', label='_na')\n",
    "plt.axhline(hour_pop.mean(), ls=':', c='r', label='Average')\n",
    "plt.legend()\n",
    "plt.title('Average Number of Posts per Day of Week');"
   ]
  },
  {
   "cell_type": "markdown",
   "metadata": {},
   "source": [
    "Interestingly, the busiest days are not the weekend! As a matter of fact, **Wednesday and Thursday** are typically the week days with above the average number of posts."
   ]
  },
  {
   "cell_type": "code",
   "execution_count": 40,
   "metadata": {},
   "outputs": [
    {
     "data": {
      "image/png": "[encoded data removed]",
      "text/plain": [
       "<matplotlib.figure.Figure at 0x23c6dfea278>"
      ]
     },
     "metadata": {
      "needs_background": "light"
     },
     "output_type": "display_data"
    }
   ],
   "source": [
    "# Amount of Posts along the time\n",
    "\n",
    "# Set created to DateTime\n",
    "df.created = pd.to_datetime(df.created)\n",
    "\n",
    "# Extract Date (YYYY-MM-DD)\n",
    "df['date'] = df.created.dt.date\n",
    "\n",
    "# Moving average of last 7 days, over amount of posts per day\n",
    "df.groupby('date').hour.count().rolling(7).mean().plot(figsize=(10,5), label='Moving Average: 7 days')\n",
    "plt.title('Average Number of Posts per Day, along the Time')\n",
    "plt.legend();"
   ]
  },
  {
   "cell_type": "markdown",
   "metadata": {},
   "source": [
    "Looking at the average number of posts per day, it is possible to see the diminishing trend along the time.\n",
    "One possible explanation would be that, perhaps, the *WeRateDogs* is losing popularity."
   ]
  }
 ],
 "metadata": {
  "kernelspec": {
   "display_name": "Python 3",
   "language": "python",
   "name": "python3"
  },
  "language_info": {
   "codemirror_mode": {
    "name": "ipython",
    "version": 3
   },
   "file_extension": ".py",
   "mimetype": "text/x-python",
   "name": "python",
   "nbconvert_exporter": "python",
   "pygments_lexer": "ipython3",
   "version": "3.6.4"
  },
  "varInspector": {
   "cols": {
    "lenName": 16,
    "lenType": 16,
    "lenVar": 40
   },
   "kernels_config": {
    "python": {
     "delete_cmd_postfix": "",
     "delete_cmd_prefix": "del ",
     "library": "var_list.py",
     "varRefreshCmd": "print(var_dic_list())"
    },
    "r": {
     "delete_cmd_postfix": ") ",
     "delete_cmd_prefix": "rm(",
     "library": "var_list.r",
     "varRefreshCmd": "cat(var_dic_list()) "
    }
   },
   "types_to_exclude": [
    "module",
    "function",
    "builtin_function_or_method",
    "instance",
    "_Feature"
   ],
   "window_display": false
  }
 },
 "nbformat": 4,
 "nbformat_minor": 2
}
